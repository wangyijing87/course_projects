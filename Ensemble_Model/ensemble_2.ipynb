{
 "cells": [
  {
   "cell_type": "code",
   "execution_count": 1,
   "metadata": {},
   "outputs": [
    {
     "ename": "ImportError",
     "evalue": "cannot import name 'StackingCVRegressor'",
     "output_type": "error",
     "traceback": [
      "\u001b[0;31m---------------------------------------------------------------------------\u001b[0m",
      "\u001b[0;31mImportError\u001b[0m                               Traceback (most recent call last)",
      "\u001b[0;32m<ipython-input-1-41a5f9b18f6c>\u001b[0m in \u001b[0;36m<module>\u001b[0;34m()\u001b[0m\n\u001b[1;32m      7\u001b[0m \u001b[0;32mfrom\u001b[0m \u001b[0msklearn\u001b[0m\u001b[0;34m.\u001b[0m\u001b[0mmetrics\u001b[0m \u001b[0;32mimport\u001b[0m \u001b[0mmean_absolute_error\u001b[0m\u001b[0;34m,\u001b[0m\u001b[0mmean_squared_error\u001b[0m\u001b[0;34m\u001b[0m\u001b[0m\n\u001b[1;32m      8\u001b[0m \u001b[0;32mfrom\u001b[0m \u001b[0msklearn\u001b[0m\u001b[0;34m.\u001b[0m\u001b[0mlinear_model\u001b[0m \u001b[0;32mimport\u001b[0m \u001b[0mLasso\u001b[0m\u001b[0;34m\u001b[0m\u001b[0m\n\u001b[0;32m----> 9\u001b[0;31m \u001b[0;32mfrom\u001b[0m \u001b[0mmlxtend\u001b[0m\u001b[0;34m.\u001b[0m\u001b[0mregressor\u001b[0m \u001b[0;32mimport\u001b[0m \u001b[0mStackingCVRegressor\u001b[0m\u001b[0;34m\u001b[0m\u001b[0m\n\u001b[0m\u001b[1;32m     10\u001b[0m \u001b[0;32mfrom\u001b[0m \u001b[0msklearn\u001b[0m \u001b[0;32mimport\u001b[0m \u001b[0mlinear_model\u001b[0m\u001b[0;34m\u001b[0m\u001b[0m\n\u001b[1;32m     11\u001b[0m \u001b[0;32mfrom\u001b[0m \u001b[0msklearn\u001b[0m\u001b[0;34m.\u001b[0m\u001b[0mensemble\u001b[0m \u001b[0;32mimport\u001b[0m \u001b[0mGradientBoostingRegressor\u001b[0m\u001b[0;34m\u001b[0m\u001b[0m\n",
      "\u001b[0;31mImportError\u001b[0m: cannot import name 'StackingCVRegressor'"
     ]
    }
   ],
   "source": [
    "import numpy as np\n",
    "import pandas as pd\n",
    "from sklearn.svm import SVR\n",
    "from sklearn.model_selection import GridSearchCV\n",
    "from sklearn.neural_network import MLPRegressor\n",
    "from pandas.core.frame import DataFrame\n",
    "from sklearn.metrics import mean_absolute_error,mean_squared_error\n",
    "from sklearn.linear_model import Lasso\n",
    "from mlxtend.regressor import StackingCVRegressor\n",
    "from sklearn import linear_model\n",
    "from sklearn.ensemble import GradientBoostingRegressor\n",
    "from math import sqrt\n",
    "from mlxtend.classifier import StackingClassifier\n",
    "from sklearn.svm import SVC\n",
    "from sklearn.neural_network import MLPClassifier\n",
    "from sklearn import model_selection\n",
    "from sklearn.linear_model import LogisticRegression\n",
    "from sklearn.neighbors import KNeighborsClassifier\n",
    "from sklearn.naive_bayes import GaussianNB \n",
    "from sklearn.ensemble import RandomForestClassifier"
   ]
  },
  {
   "cell_type": "code",
   "execution_count": 23,
   "metadata": {},
   "outputs": [
    {
     "data": {
      "text/html": [
       "<div>\n",
       "<style scoped>\n",
       "    .dataframe tbody tr th:only-of-type {\n",
       "        vertical-align: middle;\n",
       "    }\n",
       "\n",
       "    .dataframe tbody tr th {\n",
       "        vertical-align: top;\n",
       "    }\n",
       "\n",
       "    .dataframe thead th {\n",
       "        text-align: right;\n",
       "    }\n",
       "</style>\n",
       "<table border=\"1\" class=\"dataframe\">\n",
       "  <thead>\n",
       "    <tr style=\"text-align: right;\">\n",
       "      <th></th>\n",
       "      <th>Unnamed: 0</th>\n",
       "      <th>instant</th>\n",
       "      <th>dteday</th>\n",
       "      <th>season</th>\n",
       "      <th>yr</th>\n",
       "      <th>mnth</th>\n",
       "      <th>holiday</th>\n",
       "      <th>weekday</th>\n",
       "      <th>workingday</th>\n",
       "      <th>weathersit</th>\n",
       "      <th>...</th>\n",
       "      <th>avg_hum</th>\n",
       "      <th>avg_windspeed</th>\n",
       "      <th>pre_cnt_2</th>\n",
       "      <th>pre_cnt_7</th>\n",
       "      <th>casual_2</th>\n",
       "      <th>casual_7</th>\n",
       "      <th>registered_2</th>\n",
       "      <th>registered_7</th>\n",
       "      <th>trend</th>\n",
       "      <th>increase_percentage</th>\n",
       "    </tr>\n",
       "  </thead>\n",
       "  <tbody>\n",
       "    <tr>\n",
       "      <th>0</th>\n",
       "      <td>9</td>\n",
       "      <td>9</td>\n",
       "      <td>9/1/11</td>\n",
       "      <td>1</td>\n",
       "      <td>0</td>\n",
       "      <td>1</td>\n",
       "      <td>0</td>\n",
       "      <td>0</td>\n",
       "      <td>0</td>\n",
       "      <td>1</td>\n",
       "      <td>...</td>\n",
       "      <td>0.569077</td>\n",
       "      <td>0.180397</td>\n",
       "      <td>1510.0</td>\n",
       "      <td>801.0</td>\n",
       "      <td>148</td>\n",
       "      <td>131</td>\n",
       "      <td>1362</td>\n",
       "      <td>670</td>\n",
       "      <td>-1</td>\n",
       "      <td>-0.455629</td>\n",
       "    </tr>\n",
       "    <tr>\n",
       "      <th>1</th>\n",
       "      <td>10</td>\n",
       "      <td>10</td>\n",
       "      <td>10/1/11</td>\n",
       "      <td>1</td>\n",
       "      <td>0</td>\n",
       "      <td>1</td>\n",
       "      <td>0</td>\n",
       "      <td>1</td>\n",
       "      <td>1</td>\n",
       "      <td>1</td>\n",
       "      <td>...</td>\n",
       "      <td>0.530506</td>\n",
       "      <td>0.195591</td>\n",
       "      <td>959.0</td>\n",
       "      <td>1349.0</td>\n",
       "      <td>68</td>\n",
       "      <td>120</td>\n",
       "      <td>891</td>\n",
       "      <td>1229</td>\n",
       "      <td>1</td>\n",
       "      <td>0.377477</td>\n",
       "    </tr>\n",
       "    <tr>\n",
       "      <th>2</th>\n",
       "      <td>11</td>\n",
       "      <td>11</td>\n",
       "      <td>11/1/11</td>\n",
       "      <td>1</td>\n",
       "      <td>0</td>\n",
       "      <td>1</td>\n",
       "      <td>0</td>\n",
       "      <td>2</td>\n",
       "      <td>1</td>\n",
       "      <td>2</td>\n",
       "      <td>...</td>\n",
       "      <td>0.493089</td>\n",
       "      <td>0.211793</td>\n",
       "      <td>822.0</td>\n",
       "      <td>1562.0</td>\n",
       "      <td>54</td>\n",
       "      <td>108</td>\n",
       "      <td>768</td>\n",
       "      <td>1454</td>\n",
       "      <td>1</td>\n",
       "      <td>0.536496</td>\n",
       "    </tr>\n",
       "    <tr>\n",
       "      <th>3</th>\n",
       "      <td>12</td>\n",
       "      <td>12</td>\n",
       "      <td>12/1/11</td>\n",
       "      <td>1</td>\n",
       "      <td>0</td>\n",
       "      <td>1</td>\n",
       "      <td>0</td>\n",
       "      <td>3</td>\n",
       "      <td>1</td>\n",
       "      <td>1</td>\n",
       "      <td>...</td>\n",
       "      <td>0.499609</td>\n",
       "      <td>0.208215</td>\n",
       "      <td>1321.0</td>\n",
       "      <td>1600.0</td>\n",
       "      <td>41</td>\n",
       "      <td>82</td>\n",
       "      <td>1280</td>\n",
       "      <td>1518</td>\n",
       "      <td>-1</td>\n",
       "      <td>-0.120363</td>\n",
       "    </tr>\n",
       "    <tr>\n",
       "      <th>4</th>\n",
       "      <td>13</td>\n",
       "      <td>13</td>\n",
       "      <td>13/1/11</td>\n",
       "      <td>1</td>\n",
       "      <td>0</td>\n",
       "      <td>1</td>\n",
       "      <td>0</td>\n",
       "      <td>4</td>\n",
       "      <td>1</td>\n",
       "      <td>1</td>\n",
       "      <td>...</td>\n",
       "      <td>0.513314</td>\n",
       "      <td>0.202763</td>\n",
       "      <td>1263.0</td>\n",
       "      <td>1606.0</td>\n",
       "      <td>43</td>\n",
       "      <td>88</td>\n",
       "      <td>1220</td>\n",
       "      <td>1518</td>\n",
       "      <td>1</td>\n",
       "      <td>0.113222</td>\n",
       "    </tr>\n",
       "  </tbody>\n",
       "</table>\n",
       "<p>5 rows × 31 columns</p>\n",
       "</div>"
      ],
      "text/plain": [
       "   Unnamed: 0  instant   dteday  season  yr  mnth  holiday  weekday  \\\n",
       "0           9        9   9/1/11       1   0     1        0        0   \n",
       "1          10       10  10/1/11       1   0     1        0        1   \n",
       "2          11       11  11/1/11       1   0     1        0        2   \n",
       "3          12       12  12/1/11       1   0     1        0        3   \n",
       "4          13       13  13/1/11       1   0     1        0        4   \n",
       "\n",
       "   workingday  weathersit         ...            avg_hum  avg_windspeed  \\\n",
       "0           0           1         ...           0.569077       0.180397   \n",
       "1           1           1         ...           0.530506       0.195591   \n",
       "2           1           2         ...           0.493089       0.211793   \n",
       "3           1           1         ...           0.499609       0.208215   \n",
       "4           1           1         ...           0.513314       0.202763   \n",
       "\n",
       "   pre_cnt_2  pre_cnt_7  casual_2  casual_7  registered_2  registered_7  \\\n",
       "0     1510.0      801.0       148       131          1362           670   \n",
       "1      959.0     1349.0        68       120           891          1229   \n",
       "2      822.0     1562.0        54       108           768          1454   \n",
       "3     1321.0     1600.0        41        82          1280          1518   \n",
       "4     1263.0     1606.0        43        88          1220          1518   \n",
       "\n",
       "   trend  increase_percentage  \n",
       "0     -1            -0.455629  \n",
       "1      1             0.377477  \n",
       "2      1             0.536496  \n",
       "3     -1            -0.120363  \n",
       "4      1             0.113222  \n",
       "\n",
       "[5 rows x 31 columns]"
      ]
     },
     "execution_count": 23,
     "metadata": {},
     "output_type": "execute_result"
    }
   ],
   "source": [
    "bikedata = pd.read_csv(\"D:/OneDrive - National University of Singapore/NUS/Semster2/Ensemble/bikedata2.csv\", index_col=False)\n",
    "bikedata.head()"
   ]
  },
  {
   "cell_type": "markdown",
   "metadata": {},
   "source": [
    "# Split Traindata and Testdata"
   ]
  },
  {
   "cell_type": "code",
   "execution_count": 5,
   "metadata": {},
   "outputs": [],
   "source": [
    "index = bikedata['yr']\n",
    "traindata = bikedata[index == 0]\n",
    "testdata = bikedata[index ==1]"
   ]
  },
  {
   "cell_type": "markdown",
   "metadata": {},
   "source": [
    "# Feature Selection"
   ]
  },
  {
   "cell_type": "code",
   "execution_count": 1152,
   "metadata": {},
   "outputs": [
    {
     "name": "stderr",
     "output_type": "stream",
     "text": [
      "/Library/Frameworks/Python.framework/Versions/3.6/lib/python3.6/site-packages/ipykernel_launcher.py:2: SettingWithCopyWarning: \n",
      "A value is trying to be set on a copy of a slice from a DataFrame\n",
      "\n",
      "See the caveats in the documentation: http://pandas.pydata.org/pandas-docs/stable/indexing.html#indexing-view-versus-copy\n",
      "  \n"
     ]
    }
   ],
   "source": [
    "cols = [0,1,2,4,10,14,15,18,19,20,21,22,25,26,27,28,29,30]\n",
    "traindata.drop(traindata.columns[cols],axis=1,inplace=True)\n"
   ]
  },
  {
   "cell_type": "code",
   "execution_count": 1153,
   "metadata": {
    "scrolled": true
   },
   "outputs": [
    {
     "data": {
      "text/plain": [
       "['season',\n",
       " 'mnth',\n",
       " 'holiday',\n",
       " 'weekday',\n",
       " 'workingday',\n",
       " 'weathersit',\n",
       " 'atemp',\n",
       " 'hum',\n",
       " 'windspeed',\n",
       " 'cnt',\n",
       " 'weekly_avg_cnt',\n",
       " 'pre_cnt_2',\n",
       " 'pre_cnt_7']"
      ]
     },
     "execution_count": 1153,
     "metadata": {},
     "output_type": "execute_result"
    }
   ],
   "source": [
    "traindata.columns.values.tolist()"
   ]
  },
  {
   "cell_type": "code",
   "execution_count": 1154,
   "metadata": {},
   "outputs": [
    {
     "name": "stderr",
     "output_type": "stream",
     "text": [
      "/Library/Frameworks/Python.framework/Versions/3.6/lib/python3.6/site-packages/ipykernel_launcher.py:1: SettingWithCopyWarning: \n",
      "A value is trying to be set on a copy of a slice from a DataFrame\n",
      "\n",
      "See the caveats in the documentation: http://pandas.pydata.org/pandas-docs/stable/indexing.html#indexing-view-versus-copy\n",
      "  \"\"\"Entry point for launching an IPython kernel.\n"
     ]
    }
   ],
   "source": [
    "testdata.drop(testdata.columns[cols],axis=1,inplace=True)\n"
   ]
  },
  {
   "cell_type": "markdown",
   "metadata": {},
   "source": [
    "# Using Target Variable \"cnt\""
   ]
  },
  {
   "cell_type": "code",
   "execution_count": 1155,
   "metadata": {},
   "outputs": [],
   "source": [
    "Y_train = traindata['cnt'].values\n",
    "X_train = traindata.drop('cnt', axis=1).values\n",
    "\n",
    "Y_test = testdata['cnt'].values\n",
    "X_test = testdata.drop('cnt', axis=1).values"
   ]
  },
  {
   "cell_type": "code",
   "execution_count": 1156,
   "metadata": {},
   "outputs": [],
   "source": [
    "#define function of calculating profit\n",
    "def calculate_profit(a,b):\n",
    "    return min(a,b)*3-b*2;"
   ]
  },
  {
   "cell_type": "markdown",
   "metadata": {},
   "source": [
    "# Single Model - Neural Network"
   ]
  },
  {
   "cell_type": "code",
   "execution_count": 1157,
   "metadata": {},
   "outputs": [],
   "source": [
    "np.random.seed(123)\n",
    "NN = MLPRegressor(hidden_layer_sizes=(100,),activation='relu',solver='adam',learning_rate='adaptive',\n",
    "                                       max_iter=100,learning_rate_init=0.1,alpha=0.001)"
   ]
  },
  {
   "cell_type": "code",
   "execution_count": 1165,
   "metadata": {},
   "outputs": [
    {
     "name": "stdout",
     "output_type": "stream",
     "text": [
      "Profit:1432933.5\n",
      "RMSE:1308.8992\n",
      "MAE:955.28279\n"
     ]
    }
   ],
   "source": [
    "NN_fit = NN.fit(X_train,Y_train)\n",
    "pred_NN = NN_fit.predict(X_test)\n",
    "\n",
    "\n",
    "rmse_NN  =sqrt(mean_squared_error(Y_test, np.around(pred_NN)))     \n",
    "mae_NN = mean_absolute_error(Y_test, np.around(pred_NN))\n",
    "\n",
    "pred_NN= pd.DataFrame({\"Pred\":np.around(pred_NN),\"cnt\":Y_test})\n",
    "\n",
    "pred_NN['Profit'] = pred_NN.apply(lambda row: calculate_profit(row['cnt'], row['Pred']), axis=1)\n",
    "prediction.head()\n",
    "\n",
    "profit_NN = sum(pred_NN['Profit'])\n",
    "print(\"Profit:{}\".format(profit_NN))\n",
    "print(\"RMSE:{0:.8}\".format(rmse_NN))\n",
    "print(\"MAE:{0:.08}\".format(mae_NN))"
   ]
  },
  {
   "cell_type": "code",
   "execution_count": 1149,
   "metadata": {},
   "outputs": [
    {
     "data": {
      "text/html": [
       "<div>\n",
       "<style scoped>\n",
       "    .dataframe tbody tr th:only-of-type {\n",
       "        vertical-align: middle;\n",
       "    }\n",
       "\n",
       "    .dataframe tbody tr th {\n",
       "        vertical-align: top;\n",
       "    }\n",
       "\n",
       "    .dataframe thead th {\n",
       "        text-align: right;\n",
       "    }\n",
       "</style>\n",
       "<table border=\"1\" class=\"dataframe\">\n",
       "  <thead>\n",
       "    <tr style=\"text-align: right;\">\n",
       "      <th></th>\n",
       "      <th>NN</th>\n",
       "    </tr>\n",
       "  </thead>\n",
       "  <tbody>\n",
       "    <tr>\n",
       "      <th>0</th>\n",
       "      <td>876382.0</td>\n",
       "    </tr>\n",
       "  </tbody>\n",
       "</table>\n",
       "</div>"
      ],
      "text/plain": [
       "         NN\n",
       "0  876382.0"
      ]
     },
     "execution_count": 1149,
     "metadata": {},
     "output_type": "execute_result"
    }
   ],
   "source": [
    "profit_table = pd.DataFrame({\"NN\": profit_NN},index=[0])\n",
    "profit_table"
   ]
  },
  {
   "cell_type": "code",
   "execution_count": 1169,
   "metadata": {},
   "outputs": [],
   "source": [
    "np.random.seed(123)\n",
    "mlp = MLPRegressor(activation='relu', alpha=0.01, batch_size='auto', beta_1=0.9,\n",
    "       beta_2=0.999, early_stopping=False, epsilon=1e-08,\n",
    "       hidden_layer_sizes=(100,), learning_rate='constant',\n",
    "       learning_rate_init=0.0001, max_iter=1000, momentum=0.8,\n",
    "       nesterovs_momentum=True, power_t=0.5, random_state=1, shuffle=True,\n",
    "       solver='adam', tol=0.0001, validation_fraction=0.1, verbose=False)\n",
    "\n"
   ]
  },
  {
   "cell_type": "code",
   "execution_count": 1174,
   "metadata": {},
   "outputs": [
    {
     "name": "stderr",
     "output_type": "stream",
     "text": [
      "/Library/Frameworks/Python.framework/Versions/3.6/lib/python3.6/site-packages/sklearn/neural_network/multilayer_perceptron.py:564: ConvergenceWarning: Stochastic Optimizer: Maximum iterations (1000) reached and the optimization hasn't converged yet.\n",
      "  % self.max_iter, ConvergenceWarning)\n"
     ]
    },
    {
     "data": {
      "text/html": [
       "<div>\n",
       "<style scoped>\n",
       "    .dataframe tbody tr th:only-of-type {\n",
       "        vertical-align: middle;\n",
       "    }\n",
       "\n",
       "    .dataframe tbody tr th {\n",
       "        vertical-align: top;\n",
       "    }\n",
       "\n",
       "    .dataframe thead th {\n",
       "        text-align: right;\n",
       "    }\n",
       "</style>\n",
       "<table border=\"1\" class=\"dataframe\">\n",
       "  <thead>\n",
       "    <tr style=\"text-align: right;\">\n",
       "      <th></th>\n",
       "      <th>Pred</th>\n",
       "      <th>cnt</th>\n",
       "    </tr>\n",
       "  </thead>\n",
       "  <tbody>\n",
       "    <tr>\n",
       "      <th>0</th>\n",
       "      <td>1903.0</td>\n",
       "      <td>2294.0</td>\n",
       "    </tr>\n",
       "    <tr>\n",
       "      <th>1</th>\n",
       "      <td>1957.0</td>\n",
       "      <td>1951.0</td>\n",
       "    </tr>\n",
       "    <tr>\n",
       "      <th>2</th>\n",
       "      <td>1972.0</td>\n",
       "      <td>2236.0</td>\n",
       "    </tr>\n",
       "    <tr>\n",
       "      <th>3</th>\n",
       "      <td>2130.0</td>\n",
       "      <td>2368.0</td>\n",
       "    </tr>\n",
       "    <tr>\n",
       "      <th>4</th>\n",
       "      <td>2311.0</td>\n",
       "      <td>3272.0</td>\n",
       "    </tr>\n",
       "  </tbody>\n",
       "</table>\n",
       "</div>"
      ],
      "text/plain": [
       "     Pred     cnt\n",
       "0  1903.0  2294.0\n",
       "1  1957.0  1951.0\n",
       "2  1972.0  2236.0\n",
       "3  2130.0  2368.0\n",
       "4  2311.0  3272.0"
      ]
     },
     "execution_count": 1174,
     "metadata": {},
     "output_type": "execute_result"
    }
   ],
   "source": [
    "mlp.fit(X_train,Y_train)\n",
    "pred_mlp = mlp.predict(X_test)\n",
    "rmse_mlp  =sqrt(mean_squared_error(Y_test, np.around(pred_mlp)))     \n",
    "mae_mlp = mean_absolute_error(Y_test, np.around(pred_mlp))\n",
    "prediction_mlp = pd.DataFrame({\"Pred\":np.around(pred_mlp),\"cnt\":Y_test})\n",
    "prediction_mlp.head()"
   ]
  },
  {
   "cell_type": "code",
   "execution_count": 1175,
   "metadata": {},
   "outputs": [],
   "source": [
    "prediction_mlp['Profit'] = prediction_mlp.apply(lambda row: calculate_profit(row['cnt'], row['Pred']), axis=1)\n",
    "profit_mlp = sum(prediction_mlp['Profit'])"
   ]
  },
  {
   "cell_type": "code",
   "execution_count": 1176,
   "metadata": {},
   "outputs": [
    {
     "name": "stdout",
     "output_type": "stream",
     "text": [
      "Profit:1622504.5\n",
      "RMSE:1101.5204\n",
      "MAE:835.94399\n"
     ]
    }
   ],
   "source": [
    "print(\"Profit:{}\".format(profit_mlp))\n",
    "print(\"RMSE:{0:.8}\".format(rmse_mlp))\n",
    "print(\"MAE:{0:.08}\".format(mae_mlp))"
   ]
  },
  {
   "cell_type": "markdown",
   "metadata": {},
   "source": [
    "# Single Model - Bayesian Regression"
   ]
  },
  {
   "cell_type": "code",
   "execution_count": 485,
   "metadata": {},
   "outputs": [],
   "source": [
    "np.random.seed(123)\n",
    "bayesian = linear_model.BayesianRidge(alpha_1=0.0001, alpha_2=0.0001,\n",
    "       fit_intercept=True, lambda_1=0.001, lambda_2=0.001, n_iter=1000,\n",
    "       tol=0.01, verbose=False)"
   ]
  },
  {
   "cell_type": "code",
   "execution_count": 1177,
   "metadata": {},
   "outputs": [
    {
     "name": "stdout",
     "output_type": "stream",
     "text": [
      "1631590.5\n"
     ]
    }
   ],
   "source": [
    "bayesian_fit = bayesian.fit(X_train, Y_train)\n",
    "pred_bayesian = bayesian_fit.predict(X_test)\n",
    " \n",
    "rmse_bayesian  =sqrt(mean_squared_error(Y_test, np.around(pred_bayesian)))     \n",
    "mae_bayesian = mean_absolute_error(Y_test, np.around(pred_bayesian))\n",
    "\n",
    "pred_bayesian = pd.DataFrame({\"Pred\":np.around(pred_bayesian),\"cnt\":Y_test})\n",
    "pred_bayesian['Profit'] = pred_bayesian.apply(lambda row: calculate_profit(row['cnt'], row['Pred']), axis=1)\n",
    "\n",
    "profit_bayesian = sum(pred_bayesian['Profit'])\n",
    "print(profit_bayesian)"
   ]
  },
  {
   "cell_type": "code",
   "execution_count": 1178,
   "metadata": {},
   "outputs": [
    {
     "name": "stdout",
     "output_type": "stream",
     "text": [
      "Profit:1631590.5\n",
      "RMSE:1102.988\n",
      "MAE:869.47951\n"
     ]
    }
   ],
   "source": [
    "print(\"Profit:{}\".format(profit_bayesian))\n",
    "print(\"RMSE:{0:.8}\".format(rmse_bayesian))\n",
    "print(\"MAE:{0:.08}\".format(mae_bayesian))"
   ]
  },
  {
   "cell_type": "markdown",
   "metadata": {},
   "source": [
    "# Single Model - GradientBoosting Regression"
   ]
  },
  {
   "cell_type": "code",
   "execution_count": 1179,
   "metadata": {},
   "outputs": [
    {
     "data": {
      "text/plain": [
       "1406341.0"
      ]
     },
     "execution_count": 1179,
     "metadata": {},
     "output_type": "execute_result"
    }
   ],
   "source": [
    "np.random.seed(123)\n",
    "gbr = GradientBoostingRegressor(alpha = 0.1,n_estimators=300, learning_rate=0.05,\n",
    "                                   max_depth=4, max_features='sqrt',\n",
    "                                   min_samples_leaf=15, min_samples_split=10, \n",
    "                                   loss='huber', random_state =5)\n",
    "gbr.fit(X_train,Y_train)\n",
    "pred_gbr = gbr.predict(X_test)\n",
    "\n",
    "\n",
    "rmse_gbr  =sqrt(mean_squared_error(Y_test, np.around(pred_gbr)))     \n",
    "mae_gbr = mean_absolute_error(Y_test, np.around(pred_gbr))\n",
    "pred_gbr = pd.DataFrame({\"Pred\":np.around(pred_gbr),\"cnt\":Y_test})\n",
    "\n",
    "pred_gbr['Profit'] = pred_gbr.apply(lambda row: calculate_profit(row['cnt'], row['Pred']), axis=1)\n",
    "results.head()\n",
    "profit_gbr = sum(pred_gbr['Profit'])\n",
    "profit_gbr  #1406341.0"
   ]
  },
  {
   "cell_type": "code",
   "execution_count": 1180,
   "metadata": {},
   "outputs": [
    {
     "name": "stdout",
     "output_type": "stream",
     "text": [
      "Profit:1406341.0\n",
      "RMSE:1985.2786\n",
      "MAE:1774.1708\n"
     ]
    }
   ],
   "source": [
    "print(\"Profit:{}\".format(profit_gbr))\n",
    "print(\"RMSE:{0:.8}\".format(rmse_gbr))\n",
    "print(\"MAE:{0:.08}\".format(mae_gbr))"
   ]
  },
  {
   "cell_type": "markdown",
   "metadata": {},
   "source": [
    "# Stacking"
   ]
  },
  {
   "cell_type": "code",
   "execution_count": 1182,
   "metadata": {},
   "outputs": [],
   "source": [
    "# Initializing models\n",
    "svr_lin = SVR(kernel='linear')\n",
    "mlp = MLPRegressor(random_state=1)\n",
    "lasso = Lasso(random_state=1)"
   ]
  },
  {
   "cell_type": "code",
   "execution_count": 1183,
   "metadata": {},
   "outputs": [],
   "source": [
    "np.random.seed(123)\n",
    "stack = StackingCVRegressor(regressors=(svr_lin, lasso, gbr, NN, bayesian),\n",
    "                            meta_regressor=mlp)"
   ]
  },
  {
   "cell_type": "code",
   "execution_count": 1184,
   "metadata": {},
   "outputs": [
    {
     "data": {
      "text/plain": [
       "StackingCVRegressor(cv=5,\n",
       "          meta_regressor=MLPRegressor(activation='relu', alpha=0.0001, batch_size='auto', beta_1=0.9,\n",
       "       beta_2=0.999, early_stopping=False, epsilon=1e-08,\n",
       "       hidden_layer_sizes=(100,), learning_rate='constant',\n",
       "       learning_rate_init=0.001, max_iter=200, momentum=0.9,\n",
       "       nesterovs_momentum=True, power_t=0.5, random_state=1, shuffle=True,\n",
       "       solver='adam', tol=0.0001, validation_fraction=0.1, verbose=False,\n",
       "       warm_start=False),\n",
       "          refit=True,\n",
       "          regressors=(SVR(C=1.0, cache_size=200, coef0=0.0, degree=3, epsilon=0.1, gamma='auto',\n",
       "  kernel='linear', max_iter=-1, shrinking=True, tol=0.001, verbose=False), Lasso(alpha=1.0, copy_X=True, fit_intercept=True, max_iter=1000,\n",
       "   normalize=False, positive=False, precompute=False, random_state=1,\n",
       "   ...True, lambda_1=0.001, lambda_2=0.001,\n",
       "       n_iter=1000, normalize=False, tol=0.01, verbose=False)),\n",
       "          shuffle=True, store_train_meta_features=False,\n",
       "          use_features_in_secondary=False)"
      ]
     },
     "execution_count": 1184,
     "metadata": {},
     "output_type": "execute_result"
    }
   ],
   "source": [
    "stack.fit(X_train,Y_train)"
   ]
  },
  {
   "cell_type": "code",
   "execution_count": 1188,
   "metadata": {},
   "outputs": [
    {
     "data": {
      "text/html": [
       "<div>\n",
       "<style scoped>\n",
       "    .dataframe tbody tr th:only-of-type {\n",
       "        vertical-align: middle;\n",
       "    }\n",
       "\n",
       "    .dataframe tbody tr th {\n",
       "        vertical-align: top;\n",
       "    }\n",
       "\n",
       "    .dataframe thead th {\n",
       "        text-align: right;\n",
       "    }\n",
       "</style>\n",
       "<table border=\"1\" class=\"dataframe\">\n",
       "  <thead>\n",
       "    <tr style=\"text-align: right;\">\n",
       "      <th></th>\n",
       "      <th>Pred</th>\n",
       "      <th>cnt</th>\n",
       "    </tr>\n",
       "  </thead>\n",
       "  <tbody>\n",
       "    <tr>\n",
       "      <th>0</th>\n",
       "      <td>2424.0</td>\n",
       "      <td>2294.0</td>\n",
       "    </tr>\n",
       "    <tr>\n",
       "      <th>1</th>\n",
       "      <td>2133.0</td>\n",
       "      <td>1951.0</td>\n",
       "    </tr>\n",
       "    <tr>\n",
       "      <th>2</th>\n",
       "      <td>2265.0</td>\n",
       "      <td>2236.0</td>\n",
       "    </tr>\n",
       "    <tr>\n",
       "      <th>3</th>\n",
       "      <td>2177.0</td>\n",
       "      <td>2368.0</td>\n",
       "    </tr>\n",
       "    <tr>\n",
       "      <th>4</th>\n",
       "      <td>2672.0</td>\n",
       "      <td>3272.0</td>\n",
       "    </tr>\n",
       "  </tbody>\n",
       "</table>\n",
       "</div>"
      ],
      "text/plain": [
       "     Pred     cnt\n",
       "0  2424.0  2294.0\n",
       "1  2133.0  1951.0\n",
       "2  2265.0  2236.0\n",
       "3  2177.0  2368.0\n",
       "4  2672.0  3272.0"
      ]
     },
     "execution_count": 1188,
     "metadata": {},
     "output_type": "execute_result"
    }
   ],
   "source": [
    "pred_stack = stack.predict(X_test)\n",
    "\n",
    "rmse_stack  =sqrt(mean_squared_error(Y_test, np.around(pred_stack)))     \n",
    "mae_stack = mean_absolute_error(Y_test, np.around(pred_stack))\n",
    "pred_stack = pd.DataFrame({\"Pred\":np.around(pred_stack),\"cnt\":Y_test})\n",
    "pred_stack.head()"
   ]
  },
  {
   "cell_type": "code",
   "execution_count": 1189,
   "metadata": {},
   "outputs": [],
   "source": [
    "pred_stack['Profit'] = pred_stack.apply(lambda row: calculate_profit(row['cnt'], row['Pred']), axis=1)\n",
    "profit_stack = sum(pred_stack['Profit'])"
   ]
  },
  {
   "cell_type": "code",
   "execution_count": 1190,
   "metadata": {},
   "outputs": [
    {
     "name": "stdout",
     "output_type": "stream",
     "text": [
      "Profit:1689180.0\n",
      "RMSE:932.01518\n",
      "MAE:703.29645\n"
     ]
    }
   ],
   "source": [
    "print(\"Profit:{}\".format(profit_stack))\n",
    "print(\"RMSE:{0:.8}\".format(rmse_stack))\n",
    "print(\"MAE:{0:.08}\".format(mae_stack))"
   ]
  },
  {
   "cell_type": "markdown",
   "metadata": {},
   "source": [
    "# Using \"increase_pertentage\" as target variable"
   ]
  },
  {
   "cell_type": "code",
   "execution_count": 1218,
   "metadata": {},
   "outputs": [],
   "source": [
    "bikedata['shift_cnt'] = bikedata['cnt'].shift(2)\n",
    "bikedata.head()\n",
    "index = bikedata['yr']\n",
    "traindata = bikedata[index == 0]\n",
    "testdata = bikedata[index ==1]\n"
   ]
  },
  {
   "cell_type": "code",
   "execution_count": 1219,
   "metadata": {},
   "outputs": [],
   "source": [
    "cnt = bikedata[index == 1]\n",
    "shift_cnt = bikedata[index == 1]\n",
    "shift_cnt = shift_cnt['shift_cnt']"
   ]
  },
  {
   "cell_type": "code",
   "execution_count": 1220,
   "metadata": {},
   "outputs": [
    {
     "name": "stderr",
     "output_type": "stream",
     "text": [
      "/Library/Frameworks/Python.framework/Versions/3.6/lib/python3.6/site-packages/ipykernel_launcher.py:2: SettingWithCopyWarning: \n",
      "A value is trying to be set on a copy of a slice from a DataFrame\n",
      "\n",
      "See the caveats in the documentation: http://pandas.pydata.org/pandas-docs/stable/indexing.html#indexing-view-versus-copy\n",
      "  \n"
     ]
    }
   ],
   "source": [
    "cols = [0,1,2,4,10,14,15,16,18,19,20,21,22,25,26,27,28,29,31]\n",
    "traindata.drop(traindata.columns[cols],axis=1,inplace=True)"
   ]
  },
  {
   "cell_type": "code",
   "execution_count": 1221,
   "metadata": {
    "scrolled": true
   },
   "outputs": [
    {
     "data": {
      "text/plain": [
       "['season',\n",
       " 'mnth',\n",
       " 'holiday',\n",
       " 'weekday',\n",
       " 'workingday',\n",
       " 'weathersit',\n",
       " 'atemp',\n",
       " 'hum',\n",
       " 'windspeed',\n",
       " 'weekly_avg_cnt',\n",
       " 'pre_cnt_2',\n",
       " 'pre_cnt_7',\n",
       " 'increase_percentage']"
      ]
     },
     "execution_count": 1221,
     "metadata": {},
     "output_type": "execute_result"
    }
   ],
   "source": [
    "traindata.columns.values.tolist()"
   ]
  },
  {
   "cell_type": "code",
   "execution_count": 1222,
   "metadata": {},
   "outputs": [
    {
     "name": "stderr",
     "output_type": "stream",
     "text": [
      "/Library/Frameworks/Python.framework/Versions/3.6/lib/python3.6/site-packages/ipykernel_launcher.py:1: SettingWithCopyWarning: \n",
      "A value is trying to be set on a copy of a slice from a DataFrame\n",
      "\n",
      "See the caveats in the documentation: http://pandas.pydata.org/pandas-docs/stable/indexing.html#indexing-view-versus-copy\n",
      "  \"\"\"Entry point for launching an IPython kernel.\n"
     ]
    }
   ],
   "source": [
    "testdata.drop(testdata.columns[cols],axis=1,inplace=True)"
   ]
  },
  {
   "cell_type": "code",
   "execution_count": 1223,
   "metadata": {},
   "outputs": [
    {
     "data": {
      "text/html": [
       "<div>\n",
       "<style scoped>\n",
       "    .dataframe tbody tr th:only-of-type {\n",
       "        vertical-align: middle;\n",
       "    }\n",
       "\n",
       "    .dataframe tbody tr th {\n",
       "        vertical-align: top;\n",
       "    }\n",
       "\n",
       "    .dataframe thead th {\n",
       "        text-align: right;\n",
       "    }\n",
       "</style>\n",
       "<table border=\"1\" class=\"dataframe\">\n",
       "  <thead>\n",
       "    <tr style=\"text-align: right;\">\n",
       "      <th></th>\n",
       "      <th>0</th>\n",
       "      <th>1</th>\n",
       "      <th>2</th>\n",
       "      <th>3</th>\n",
       "      <th>4</th>\n",
       "      <th>5</th>\n",
       "      <th>6</th>\n",
       "      <th>7</th>\n",
       "      <th>8</th>\n",
       "      <th>9</th>\n",
       "      <th>10</th>\n",
       "      <th>11</th>\n",
       "    </tr>\n",
       "  </thead>\n",
       "  <tbody>\n",
       "    <tr>\n",
       "      <th>0</th>\n",
       "      <td>1.0</td>\n",
       "      <td>1.0</td>\n",
       "      <td>0.0</td>\n",
       "      <td>0.0</td>\n",
       "      <td>0.0</td>\n",
       "      <td>1.0</td>\n",
       "      <td>0.375621</td>\n",
       "      <td>0.692500</td>\n",
       "      <td>0.192167</td>\n",
       "      <td>1709.0</td>\n",
       "      <td>2999.0</td>\n",
       "      <td>754.0</td>\n",
       "    </tr>\n",
       "    <tr>\n",
       "      <th>1</th>\n",
       "      <td>1.0</td>\n",
       "      <td>1.0</td>\n",
       "      <td>1.0</td>\n",
       "      <td>1.0</td>\n",
       "      <td>0.0</td>\n",
       "      <td>1.0</td>\n",
       "      <td>0.252304</td>\n",
       "      <td>0.381304</td>\n",
       "      <td>0.329665</td>\n",
       "      <td>1920.0</td>\n",
       "      <td>2485.0</td>\n",
       "      <td>1317.0</td>\n",
       "    </tr>\n",
       "    <tr>\n",
       "      <th>2</th>\n",
       "      <td>1.0</td>\n",
       "      <td>1.0</td>\n",
       "      <td>0.0</td>\n",
       "      <td>2.0</td>\n",
       "      <td>1.0</td>\n",
       "      <td>1.0</td>\n",
       "      <td>0.126275</td>\n",
       "      <td>0.441250</td>\n",
       "      <td>0.365671</td>\n",
       "      <td>2140.0</td>\n",
       "      <td>2294.0</td>\n",
       "      <td>1162.0</td>\n",
       "    </tr>\n",
       "    <tr>\n",
       "      <th>3</th>\n",
       "      <td>1.0</td>\n",
       "      <td>1.0</td>\n",
       "      <td>0.0</td>\n",
       "      <td>3.0</td>\n",
       "      <td>1.0</td>\n",
       "      <td>2.0</td>\n",
       "      <td>0.119337</td>\n",
       "      <td>0.414583</td>\n",
       "      <td>0.184700</td>\n",
       "      <td>2230.0</td>\n",
       "      <td>1951.0</td>\n",
       "      <td>2302.0</td>\n",
       "    </tr>\n",
       "    <tr>\n",
       "      <th>4</th>\n",
       "      <td>1.0</td>\n",
       "      <td>1.0</td>\n",
       "      <td>0.0</td>\n",
       "      <td>4.0</td>\n",
       "      <td>1.0</td>\n",
       "      <td>1.0</td>\n",
       "      <td>0.278412</td>\n",
       "      <td>0.524167</td>\n",
       "      <td>0.129987</td>\n",
       "      <td>2384.0</td>\n",
       "      <td>2236.0</td>\n",
       "      <td>2423.0</td>\n",
       "    </tr>\n",
       "  </tbody>\n",
       "</table>\n",
       "</div>"
      ],
      "text/plain": [
       "    0    1    2    3    4    5         6         7         8       9       10  \\\n",
       "0  1.0  1.0  0.0  0.0  0.0  1.0  0.375621  0.692500  0.192167  1709.0  2999.0   \n",
       "1  1.0  1.0  1.0  1.0  0.0  1.0  0.252304  0.381304  0.329665  1920.0  2485.0   \n",
       "2  1.0  1.0  0.0  2.0  1.0  1.0  0.126275  0.441250  0.365671  2140.0  2294.0   \n",
       "3  1.0  1.0  0.0  3.0  1.0  2.0  0.119337  0.414583  0.184700  2230.0  1951.0   \n",
       "4  1.0  1.0  0.0  4.0  1.0  1.0  0.278412  0.524167  0.129987  2384.0  2236.0   \n",
       "\n",
       "       11  \n",
       "0   754.0  \n",
       "1  1317.0  \n",
       "2  1162.0  \n",
       "3  2302.0  \n",
       "4  2423.0  "
      ]
     },
     "execution_count": 1223,
     "metadata": {},
     "output_type": "execute_result"
    }
   ],
   "source": [
    "Y_train = traindata['increase_percentage'].values\n",
    "X_train = traindata.drop('increase_percentage', axis=1).values\n",
    "Y_test = testdata['increase_percentage'].values\n",
    "X_test = testdata.drop('increase_percentage', axis=1).values\n",
    "pd.DataFrame(X_test).head()"
   ]
  },
  {
   "cell_type": "code",
   "execution_count": 24,
   "metadata": {},
   "outputs": [],
   "source": [
    "#define function of calculating profit\n",
    "def calculate_profit(a,b,c):   \n",
    "    return round(min(a*c+c,b*c+c))*3- round(b*c+c)*2;"
   ]
  },
  {
   "cell_type": "markdown",
   "metadata": {},
   "source": [
    "# Single Model - Neural Network"
   ]
  },
  {
   "cell_type": "code",
   "execution_count": 1226,
   "metadata": {},
   "outputs": [],
   "source": [
    "NN = MLPRegressor(hidden_layer_sizes=(100,),activation='relu',solver='adam',learning_rate='adaptive',\n",
    "                                       max_iter=100,learning_rate_init=0.001,alpha=0.001)"
   ]
  },
  {
   "cell_type": "code",
   "execution_count": 1227,
   "metadata": {},
   "outputs": [],
   "source": [
    "NN_fit = NN.fit(X_train,Y_train)\n",
    "pred_NN = NN_fit.predict(X_test)      \n",
    "rmse_NN  =sqrt(mean_squared_error(Y_test, np.around(pred_NN)))     \n",
    "mae_NN = mean_absolute_error(Y_test, np.around(pred_NN))"
   ]
  },
  {
   "cell_type": "code",
   "execution_count": 1228,
   "metadata": {},
   "outputs": [
    {
     "data": {
      "text/html": [
       "<div>\n",
       "<style scoped>\n",
       "    .dataframe tbody tr th:only-of-type {\n",
       "        vertical-align: middle;\n",
       "    }\n",
       "\n",
       "    .dataframe tbody tr th {\n",
       "        vertical-align: top;\n",
       "    }\n",
       "\n",
       "    .dataframe thead th {\n",
       "        text-align: right;\n",
       "    }\n",
       "</style>\n",
       "<table border=\"1\" class=\"dataframe\">\n",
       "  <thead>\n",
       "    <tr style=\"text-align: right;\">\n",
       "      <th></th>\n",
       "      <th>increase_percentage</th>\n",
       "      <th>pred</th>\n",
       "      <th>shift_cnt</th>\n",
       "    </tr>\n",
       "  </thead>\n",
       "  <tbody>\n",
       "    <tr>\n",
       "      <th>357</th>\n",
       "      <td>-0.235078</td>\n",
       "      <td>6.452947</td>\n",
       "      <td>2999.0</td>\n",
       "    </tr>\n",
       "    <tr>\n",
       "      <th>358</th>\n",
       "      <td>-0.214889</td>\n",
       "      <td>-6.905793</td>\n",
       "      <td>2485.0</td>\n",
       "    </tr>\n",
       "    <tr>\n",
       "      <th>359</th>\n",
       "      <td>-0.025283</td>\n",
       "      <td>-57.985714</td>\n",
       "      <td>2294.0</td>\n",
       "    </tr>\n",
       "    <tr>\n",
       "      <th>360</th>\n",
       "      <td>0.213737</td>\n",
       "      <td>53.540731</td>\n",
       "      <td>1951.0</td>\n",
       "    </tr>\n",
       "    <tr>\n",
       "      <th>361</th>\n",
       "      <td>0.463327</td>\n",
       "      <td>58.051154</td>\n",
       "      <td>2236.0</td>\n",
       "    </tr>\n",
       "  </tbody>\n",
       "</table>\n",
       "</div>"
      ],
      "text/plain": [
       "     increase_percentage       pred  shift_cnt\n",
       "357            -0.235078   6.452947     2999.0\n",
       "358            -0.214889  -6.905793     2485.0\n",
       "359            -0.025283 -57.985714     2294.0\n",
       "360             0.213737  53.540731     1951.0\n",
       "361             0.463327  58.051154     2236.0"
      ]
     },
     "execution_count": 1228,
     "metadata": {},
     "output_type": "execute_result"
    }
   ],
   "source": [
    "pred_NN= pd.DataFrame({'pred': pred_NN, 'increase_percentage': Y_test ,'shift_cnt': shift_cnt})\n",
    "pred_NN.head()"
   ]
  },
  {
   "cell_type": "code",
   "execution_count": 1229,
   "metadata": {},
   "outputs": [
    {
     "data": {
      "text/html": [
       "<div>\n",
       "<style scoped>\n",
       "    .dataframe tbody tr th:only-of-type {\n",
       "        vertical-align: middle;\n",
       "    }\n",
       "\n",
       "    .dataframe tbody tr th {\n",
       "        vertical-align: top;\n",
       "    }\n",
       "\n",
       "    .dataframe thead th {\n",
       "        text-align: right;\n",
       "    }\n",
       "</style>\n",
       "<table border=\"1\" class=\"dataframe\">\n",
       "  <thead>\n",
       "    <tr style=\"text-align: right;\">\n",
       "      <th></th>\n",
       "      <th>increase_percentage</th>\n",
       "      <th>pred</th>\n",
       "      <th>shift_cnt</th>\n",
       "      <th>Profit</th>\n",
       "    </tr>\n",
       "  </thead>\n",
       "  <tbody>\n",
       "    <tr>\n",
       "      <th>357</th>\n",
       "      <td>-0.235078</td>\n",
       "      <td>6.452947</td>\n",
       "      <td>2999.0</td>\n",
       "      <td>-37820.0</td>\n",
       "    </tr>\n",
       "    <tr>\n",
       "      <th>358</th>\n",
       "      <td>-0.214889</td>\n",
       "      <td>-6.905793</td>\n",
       "      <td>2485.0</td>\n",
       "      <td>-14676.0</td>\n",
       "    </tr>\n",
       "    <tr>\n",
       "      <th>359</th>\n",
       "      <td>-0.025283</td>\n",
       "      <td>-57.985714</td>\n",
       "      <td>2294.0</td>\n",
       "      <td>-130725.0</td>\n",
       "    </tr>\n",
       "    <tr>\n",
       "      <th>360</th>\n",
       "      <td>0.213737</td>\n",
       "      <td>53.540731</td>\n",
       "      <td>1951.0</td>\n",
       "      <td>-205714.0</td>\n",
       "    </tr>\n",
       "    <tr>\n",
       "      <th>361</th>\n",
       "      <td>0.463327</td>\n",
       "      <td>58.051154</td>\n",
       "      <td>2236.0</td>\n",
       "      <td>-254260.0</td>\n",
       "    </tr>\n",
       "  </tbody>\n",
       "</table>\n",
       "</div>"
      ],
      "text/plain": [
       "     increase_percentage       pred  shift_cnt    Profit\n",
       "357            -0.235078   6.452947     2999.0  -37820.0\n",
       "358            -0.214889  -6.905793     2485.0  -14676.0\n",
       "359            -0.025283 -57.985714     2294.0 -130725.0\n",
       "360             0.213737  53.540731     1951.0 -205714.0\n",
       "361             0.463327  58.051154     2236.0 -254260.0"
      ]
     },
     "execution_count": 1229,
     "metadata": {},
     "output_type": "execute_result"
    }
   ],
   "source": [
    "pred_NN['Profit'] = pred_NN.apply(lambda row: calculate_profit(row['increase_percentage'], row['pred'], row['shift_cnt']), axis=1)\n",
    "pred_NN.head()"
   ]
  },
  {
   "cell_type": "code",
   "execution_count": 1230,
   "metadata": {},
   "outputs": [
    {
     "name": "stdout",
     "output_type": "stream",
     "text": [
      "Profit:-594475050.0\n",
      "RMSE:151.54676\n",
      "MAE:139.35398\n"
     ]
    }
   ],
   "source": [
    "profit_NN = sum(pred_NN['Profit'])\n",
    "print(\"Profit:{}\".format(profit_NN))\n",
    "print(\"RMSE:{0:.8}\".format(rmse_NN))\n",
    "print(\"MAE:{0:.08}\".format(mae_NN))"
   ]
  },
  {
   "cell_type": "code",
   "execution_count": 1231,
   "metadata": {},
   "outputs": [],
   "source": [
    "np.random.seed(123)\n",
    "mlp = MLPRegressor(activation='relu', alpha=0.01, batch_size='auto', beta_1=0.9,\n",
    "       beta_2=0.999, early_stopping=False, epsilon=1e-08,\n",
    "       hidden_layer_sizes=(100,), learning_rate='constant',\n",
    "       learning_rate_init=0.0001, max_iter=1000, momentum=0.8,\n",
    "       nesterovs_momentum=True, power_t=0.5, random_state=1, shuffle=True,\n",
    "       solver='adam', tol=0.0001, validation_fraction=0.1, verbose=False)\n",
    "\n"
   ]
  },
  {
   "cell_type": "code",
   "execution_count": 1232,
   "metadata": {},
   "outputs": [
    {
     "name": "stderr",
     "output_type": "stream",
     "text": [
      "/Library/Frameworks/Python.framework/Versions/3.6/lib/python3.6/site-packages/sklearn/neural_network/multilayer_perceptron.py:564: ConvergenceWarning: Stochastic Optimizer: Maximum iterations (1000) reached and the optimization hasn't converged yet.\n",
      "  % self.max_iter, ConvergenceWarning)\n"
     ]
    },
    {
     "data": {
      "text/html": [
       "<div>\n",
       "<style scoped>\n",
       "    .dataframe tbody tr th:only-of-type {\n",
       "        vertical-align: middle;\n",
       "    }\n",
       "\n",
       "    .dataframe tbody tr th {\n",
       "        vertical-align: top;\n",
       "    }\n",
       "\n",
       "    .dataframe thead th {\n",
       "        text-align: right;\n",
       "    }\n",
       "</style>\n",
       "<table border=\"1\" class=\"dataframe\">\n",
       "  <thead>\n",
       "    <tr style=\"text-align: right;\">\n",
       "      <th></th>\n",
       "      <th>Pred</th>\n",
       "      <th>increase_percentage</th>\n",
       "      <th>shift_cnt</th>\n",
       "    </tr>\n",
       "  </thead>\n",
       "  <tbody>\n",
       "    <tr>\n",
       "      <th>357</th>\n",
       "      <td>-88.999789</td>\n",
       "      <td>-0.235078</td>\n",
       "      <td>2999.0</td>\n",
       "    </tr>\n",
       "    <tr>\n",
       "      <th>358</th>\n",
       "      <td>-17.232732</td>\n",
       "      <td>-0.214889</td>\n",
       "      <td>2485.0</td>\n",
       "    </tr>\n",
       "    <tr>\n",
       "      <th>359</th>\n",
       "      <td>12.223114</td>\n",
       "      <td>-0.025283</td>\n",
       "      <td>2294.0</td>\n",
       "    </tr>\n",
       "    <tr>\n",
       "      <th>360</th>\n",
       "      <td>0.445298</td>\n",
       "      <td>0.213737</td>\n",
       "      <td>1951.0</td>\n",
       "    </tr>\n",
       "    <tr>\n",
       "      <th>361</th>\n",
       "      <td>-2.326356</td>\n",
       "      <td>0.463327</td>\n",
       "      <td>2236.0</td>\n",
       "    </tr>\n",
       "  </tbody>\n",
       "</table>\n",
       "</div>"
      ],
      "text/plain": [
       "          Pred  increase_percentage  shift_cnt\n",
       "357 -88.999789            -0.235078     2999.0\n",
       "358 -17.232732            -0.214889     2485.0\n",
       "359  12.223114            -0.025283     2294.0\n",
       "360   0.445298             0.213737     1951.0\n",
       "361  -2.326356             0.463327     2236.0"
      ]
     },
     "execution_count": 1232,
     "metadata": {},
     "output_type": "execute_result"
    }
   ],
   "source": [
    "mlp.fit(X_train,Y_train)\n",
    "pred_mlp = mlp.predict(X_test)\n",
    "\n",
    "rmse_mlp  =sqrt(mean_squared_error(Y_test, np.around(pred_mlp)))     \n",
    "mae_mlp = mean_absolute_error(Y_test, np.around(pred_mlp))\n",
    "prediction_mlp = pd.DataFrame({\"Pred\":pred_mlp,\"increase_percentage\":Y_test,\"shift_cnt\":shift_cnt})\n",
    "prediction_mlp.head()"
   ]
  },
  {
   "cell_type": "code",
   "execution_count": 1233,
   "metadata": {},
   "outputs": [
    {
     "data": {
      "text/html": [
       "<div>\n",
       "<style scoped>\n",
       "    .dataframe tbody tr th:only-of-type {\n",
       "        vertical-align: middle;\n",
       "    }\n",
       "\n",
       "    .dataframe tbody tr th {\n",
       "        vertical-align: top;\n",
       "    }\n",
       "\n",
       "    .dataframe thead th {\n",
       "        text-align: right;\n",
       "    }\n",
       "</style>\n",
       "<table border=\"1\" class=\"dataframe\">\n",
       "  <thead>\n",
       "    <tr style=\"text-align: right;\">\n",
       "      <th></th>\n",
       "      <th>Pred</th>\n",
       "      <th>increase_percentage</th>\n",
       "      <th>shift_cnt</th>\n",
       "      <th>Profit</th>\n",
       "    </tr>\n",
       "  </thead>\n",
       "  <tbody>\n",
       "    <tr>\n",
       "      <th>357</th>\n",
       "      <td>-88.999789</td>\n",
       "      <td>-0.235078</td>\n",
       "      <td>2999.0</td>\n",
       "      <td>-263911.0</td>\n",
       "    </tr>\n",
       "    <tr>\n",
       "      <th>358</th>\n",
       "      <td>-17.232732</td>\n",
       "      <td>-0.214889</td>\n",
       "      <td>2485.0</td>\n",
       "      <td>-40338.0</td>\n",
       "    </tr>\n",
       "    <tr>\n",
       "      <th>359</th>\n",
       "      <td>12.223114</td>\n",
       "      <td>-0.025283</td>\n",
       "      <td>2294.0</td>\n",
       "      <td>-53960.0</td>\n",
       "    </tr>\n",
       "    <tr>\n",
       "      <th>360</th>\n",
       "      <td>0.445298</td>\n",
       "      <td>0.213737</td>\n",
       "      <td>1951.0</td>\n",
       "      <td>1464.0</td>\n",
       "    </tr>\n",
       "    <tr>\n",
       "      <th>361</th>\n",
       "      <td>-2.326356</td>\n",
       "      <td>0.463327</td>\n",
       "      <td>2236.0</td>\n",
       "      <td>-2966.0</td>\n",
       "    </tr>\n",
       "  </tbody>\n",
       "</table>\n",
       "</div>"
      ],
      "text/plain": [
       "          Pred  increase_percentage  shift_cnt    Profit\n",
       "357 -88.999789            -0.235078     2999.0 -263911.0\n",
       "358 -17.232732            -0.214889     2485.0  -40338.0\n",
       "359  12.223114            -0.025283     2294.0  -53960.0\n",
       "360   0.445298             0.213737     1951.0    1464.0\n",
       "361  -2.326356             0.463327     2236.0   -2966.0"
      ]
     },
     "execution_count": 1233,
     "metadata": {},
     "output_type": "execute_result"
    }
   ],
   "source": [
    "prediction_mlp['Profit'] = prediction_mlp.apply(lambda row: calculate_profit(row['increase_percentage'], row['Pred'],row['shift_cnt']), axis=1)\n",
    "prediction_mlp.head()"
   ]
  },
  {
   "cell_type": "code",
   "execution_count": 1234,
   "metadata": {},
   "outputs": [
    {
     "name": "stdout",
     "output_type": "stream",
     "text": [
      "Profit:-50396659.0\n",
      "RMSE:24.664763\n",
      "MAE:15.898952\n"
     ]
    }
   ],
   "source": [
    "profit_mlp = sum(prediction_mlp['Profit'])\n",
    "print(\"Profit:{}\".format(profit_mlp))\n",
    "print(\"RMSE:{0:.8}\".format(rmse_mlp))\n",
    "print(\"MAE:{0:.08}\".format(mae_mlp))"
   ]
  },
  {
   "cell_type": "markdown",
   "metadata": {},
   "source": [
    "# Single Model - Bayesian Regression"
   ]
  },
  {
   "cell_type": "code",
   "execution_count": 1235,
   "metadata": {},
   "outputs": [],
   "source": [
    "np.random.seed(123)\n",
    "bayesian = linear_model.BayesianRidge(alpha_1=0.0001, alpha_2=0.0001,\n",
    "       fit_intercept=True, lambda_1=0.001, lambda_2=0.001, n_iter=1000,\n",
    "       tol=0.01, verbose=False)"
   ]
  },
  {
   "cell_type": "code",
   "execution_count": 1236,
   "metadata": {},
   "outputs": [
    {
     "data": {
      "text/html": [
       "<div>\n",
       "<style scoped>\n",
       "    .dataframe tbody tr th:only-of-type {\n",
       "        vertical-align: middle;\n",
       "    }\n",
       "\n",
       "    .dataframe tbody tr th {\n",
       "        vertical-align: top;\n",
       "    }\n",
       "\n",
       "    .dataframe thead th {\n",
       "        text-align: right;\n",
       "    }\n",
       "</style>\n",
       "<table border=\"1\" class=\"dataframe\">\n",
       "  <thead>\n",
       "    <tr style=\"text-align: right;\">\n",
       "      <th></th>\n",
       "      <th>Pred</th>\n",
       "      <th>increase_percentage</th>\n",
       "      <th>shift_cnt</th>\n",
       "    </tr>\n",
       "  </thead>\n",
       "  <tbody>\n",
       "    <tr>\n",
       "      <th>357</th>\n",
       "      <td>-0.346755</td>\n",
       "      <td>-0.235078</td>\n",
       "      <td>2999.0</td>\n",
       "    </tr>\n",
       "    <tr>\n",
       "      <th>358</th>\n",
       "      <td>-0.218708</td>\n",
       "      <td>-0.214889</td>\n",
       "      <td>2485.0</td>\n",
       "    </tr>\n",
       "    <tr>\n",
       "      <th>359</th>\n",
       "      <td>0.093802</td>\n",
       "      <td>-0.025283</td>\n",
       "      <td>2294.0</td>\n",
       "    </tr>\n",
       "    <tr>\n",
       "      <th>360</th>\n",
       "      <td>0.111562</td>\n",
       "      <td>0.213737</td>\n",
       "      <td>1951.0</td>\n",
       "    </tr>\n",
       "    <tr>\n",
       "      <th>361</th>\n",
       "      <td>0.328590</td>\n",
       "      <td>0.463327</td>\n",
       "      <td>2236.0</td>\n",
       "    </tr>\n",
       "  </tbody>\n",
       "</table>\n",
       "</div>"
      ],
      "text/plain": [
       "         Pred  increase_percentage  shift_cnt\n",
       "357 -0.346755            -0.235078     2999.0\n",
       "358 -0.218708            -0.214889     2485.0\n",
       "359  0.093802            -0.025283     2294.0\n",
       "360  0.111562             0.213737     1951.0\n",
       "361  0.328590             0.463327     2236.0"
      ]
     },
     "execution_count": 1236,
     "metadata": {},
     "output_type": "execute_result"
    }
   ],
   "source": [
    "bayesian_fit = bayesian.fit(X_train, Y_train)\n",
    "pred_bayesian = bayesian_fit.predict(X_test)\n",
    "\n",
    "\n",
    "rmse_bayesian  =sqrt(mean_squared_error(Y_test, np.around(pred_bayesian)))     \n",
    "mae_bayesian = mean_absolute_error(Y_test, np.around(pred_bayesian))\n",
    "pred_bayesian = pd.DataFrame({\"Pred\":pred_bayesian , \"increase_percentage\":Y_test, \"shift_cnt\":shift_cnt})     \n",
    "pred_bayesian.head()\n"
   ]
  },
  {
   "cell_type": "code",
   "execution_count": 1237,
   "metadata": {},
   "outputs": [
    {
     "data": {
      "text/html": [
       "<div>\n",
       "<style scoped>\n",
       "    .dataframe tbody tr th:only-of-type {\n",
       "        vertical-align: middle;\n",
       "    }\n",
       "\n",
       "    .dataframe tbody tr th {\n",
       "        vertical-align: top;\n",
       "    }\n",
       "\n",
       "    .dataframe thead th {\n",
       "        text-align: right;\n",
       "    }\n",
       "</style>\n",
       "<table border=\"1\" class=\"dataframe\">\n",
       "  <thead>\n",
       "    <tr style=\"text-align: right;\">\n",
       "      <th></th>\n",
       "      <th>Pred</th>\n",
       "      <th>increase_percentage</th>\n",
       "      <th>shift_cnt</th>\n",
       "      <th>Profit</th>\n",
       "    </tr>\n",
       "  </thead>\n",
       "  <tbody>\n",
       "    <tr>\n",
       "      <th>357</th>\n",
       "      <td>-0.346755</td>\n",
       "      <td>-0.235078</td>\n",
       "      <td>2999.0</td>\n",
       "      <td>1959.0</td>\n",
       "    </tr>\n",
       "    <tr>\n",
       "      <th>358</th>\n",
       "      <td>-0.218708</td>\n",
       "      <td>-0.214889</td>\n",
       "      <td>2485.0</td>\n",
       "      <td>1942.0</td>\n",
       "    </tr>\n",
       "    <tr>\n",
       "      <th>359</th>\n",
       "      <td>0.093802</td>\n",
       "      <td>-0.025283</td>\n",
       "      <td>2294.0</td>\n",
       "      <td>1690.0</td>\n",
       "    </tr>\n",
       "    <tr>\n",
       "      <th>360</th>\n",
       "      <td>0.111562</td>\n",
       "      <td>0.213737</td>\n",
       "      <td>1951.0</td>\n",
       "      <td>2169.0</td>\n",
       "    </tr>\n",
       "    <tr>\n",
       "      <th>361</th>\n",
       "      <td>0.328590</td>\n",
       "      <td>0.463327</td>\n",
       "      <td>2236.0</td>\n",
       "      <td>2971.0</td>\n",
       "    </tr>\n",
       "  </tbody>\n",
       "</table>\n",
       "</div>"
      ],
      "text/plain": [
       "         Pred  increase_percentage  shift_cnt  Profit\n",
       "357 -0.346755            -0.235078     2999.0  1959.0\n",
       "358 -0.218708            -0.214889     2485.0  1942.0\n",
       "359  0.093802            -0.025283     2294.0  1690.0\n",
       "360  0.111562             0.213737     1951.0  2169.0\n",
       "361  0.328590             0.463327     2236.0  2971.0"
      ]
     },
     "execution_count": 1237,
     "metadata": {},
     "output_type": "execute_result"
    }
   ],
   "source": [
    "pred_bayesian['Profit'] = pred_bayesian.apply(lambda row: calculate_profit(row['increase_percentage'],row['Pred'], row['shift_cnt']), axis=1)\n",
    "pred_bayesian.head()\n"
   ]
  },
  {
   "cell_type": "code",
   "execution_count": 1238,
   "metadata": {},
   "outputs": [
    {
     "name": "stdout",
     "output_type": "stream",
     "text": [
      "Profit:1183092.0\n",
      "RMSE:0.6361102\n",
      "MAE:0.44479904\n"
     ]
    }
   ],
   "source": [
    "profit_bayesian = sum(pred_bayesian['Profit'])\n",
    "\n",
    "print(\"Profit:{}\".format(profit_bayesian))\n",
    "print(\"RMSE:{0:.8}\".format(rmse_bayesian))\n",
    "print(\"MAE:{0:.08}\".format(mae_bayesian))\n",
    "#1587415"
   ]
  },
  {
   "cell_type": "markdown",
   "metadata": {},
   "source": [
    "# Single Model - GradientBoosting Regression"
   ]
  },
  {
   "cell_type": "code",
   "execution_count": 1239,
   "metadata": {},
   "outputs": [
    {
     "data": {
      "text/plain": [
       "1497007.0"
      ]
     },
     "execution_count": 1239,
     "metadata": {},
     "output_type": "execute_result"
    }
   ],
   "source": [
    "np.random.seed(123)\n",
    "gbr = GradientBoostingRegressor(alpha = 0.1,n_estimators=300, learning_rate=0.05,\n",
    "                                   max_depth=4, max_features='sqrt',\n",
    "                                   min_samples_leaf=15, min_samples_split=10, \n",
    "                                   loss='huber', random_state =5)\n",
    "gbr.fit(X_train,Y_train)\n",
    "pred_gbr = gbr.predict(X_test)\n",
    "\n",
    "rmse_gbr  =sqrt(mean_squared_error(Y_test, np.around(pred_gbr)))     \n",
    "mae_gbr = mean_absolute_error(Y_test, np.around(pred_gbr))\n",
    "pred_gbr = pd.DataFrame({\"Pred\":np.around(pred_gbr),\"increase_percentage\":Y_test,\"shift_cnt\":shift_cnt})\n",
    "pred_gbr['Profit'] = pred_gbr.apply(lambda row: calculate_profit(row['increase_percentage'], row['Pred'], row['shift_cnt']), axis=1)\n",
    "profit_gbr = sum(pred_gbr['Profit'])  #1497007.0"
   ]
  },
  {
   "cell_type": "code",
   "execution_count": 1240,
   "metadata": {},
   "outputs": [
    {
     "name": "stdout",
     "output_type": "stream",
     "text": [
      "Profit:1497007.0\n",
      "RMSE:0.44658417\n",
      "MAE:0.23946583\n"
     ]
    }
   ],
   "source": [
    "print(\"Profit:{}\".format(profit_gbr))\n",
    "print(\"RMSE:{0:.8}\".format(rmse_gbr))\n",
    "print(\"MAE:{0:.08}\".format(mae_gbr))"
   ]
  },
  {
   "cell_type": "markdown",
   "metadata": {},
   "source": [
    "# Stacking"
   ]
  },
  {
   "cell_type": "code",
   "execution_count": 1241,
   "metadata": {},
   "outputs": [],
   "source": [
    "# Initializing models\n",
    "svr_lin = SVR(kernel='linear')\n",
    "mlp = MLPRegressor(random_state=1)\n",
    "lasso = Lasso(random_state=1)"
   ]
  },
  {
   "cell_type": "code",
   "execution_count": 1242,
   "metadata": {},
   "outputs": [],
   "source": [
    "np.random.seed(123)\n",
    "stack = StackingCVRegressor(regressors=(svr_lin, lasso, gbr, bayesian),\n",
    "                            meta_regressor=gbr)"
   ]
  },
  {
   "cell_type": "code",
   "execution_count": 1243,
   "metadata": {},
   "outputs": [
    {
     "data": {
      "text/plain": [
       "StackingCVRegressor(cv=5,\n",
       "          meta_regressor=GradientBoostingRegressor(alpha=0.1, criterion='friedman_mse', init=None,\n",
       "             learning_rate=0.05, loss='huber', max_depth=4,\n",
       "             max_features='sqrt', max_leaf_nodes=None,\n",
       "             min_impurity_decrease=0.0, min_impurity_split=None,\n",
       "             min_samples_leaf=15, min_samples_split=10,\n",
       "             min_weight_fraction_leaf=0.0, n_estimators=300,\n",
       "             presort='auto', random_state=5, subsample=1.0, verbose=0,\n",
       "             warm_start=False),\n",
       "          refit=True,\n",
       "          regressors=(SVR(C=1.0, cache_size=200, coef0=0.0, degree=3, epsilon=0.1, gamma='auto',\n",
       "  kernel='linear', max_iter=-1, shrinking=True, tol=0.001, verbose=False), Lasso(alpha=1.0, copy_X=True, fit_intercept=True, max_iter=1000,\n",
       "   normalize=False, positive=False, precompute=False, random_state=1,\n",
       "   ...True, lambda_1=0.001, lambda_2=0.001,\n",
       "       n_iter=1000, normalize=False, tol=0.01, verbose=False)),\n",
       "          shuffle=True, store_train_meta_features=False,\n",
       "          use_features_in_secondary=False)"
      ]
     },
     "execution_count": 1243,
     "metadata": {},
     "output_type": "execute_result"
    }
   ],
   "source": [
    "stack.fit(X_train,Y_train)"
   ]
  },
  {
   "cell_type": "code",
   "execution_count": 1244,
   "metadata": {},
   "outputs": [
    {
     "data": {
      "text/html": [
       "<div>\n",
       "<style scoped>\n",
       "    .dataframe tbody tr th:only-of-type {\n",
       "        vertical-align: middle;\n",
       "    }\n",
       "\n",
       "    .dataframe tbody tr th {\n",
       "        vertical-align: top;\n",
       "    }\n",
       "\n",
       "    .dataframe thead th {\n",
       "        text-align: right;\n",
       "    }\n",
       "</style>\n",
       "<table border=\"1\" class=\"dataframe\">\n",
       "  <thead>\n",
       "    <tr style=\"text-align: right;\">\n",
       "      <th></th>\n",
       "      <th>Pred</th>\n",
       "      <th>increase_percentage</th>\n",
       "      <th>shift_cnt</th>\n",
       "    </tr>\n",
       "  </thead>\n",
       "  <tbody>\n",
       "    <tr>\n",
       "      <th>357</th>\n",
       "      <td>-0.079982</td>\n",
       "      <td>-0.235078</td>\n",
       "      <td>2999.0</td>\n",
       "    </tr>\n",
       "    <tr>\n",
       "      <th>358</th>\n",
       "      <td>-0.335661</td>\n",
       "      <td>-0.214889</td>\n",
       "      <td>2485.0</td>\n",
       "    </tr>\n",
       "    <tr>\n",
       "      <th>359</th>\n",
       "      <td>-0.236093</td>\n",
       "      <td>-0.025283</td>\n",
       "      <td>2294.0</td>\n",
       "    </tr>\n",
       "    <tr>\n",
       "      <th>360</th>\n",
       "      <td>-0.264793</td>\n",
       "      <td>0.213737</td>\n",
       "      <td>1951.0</td>\n",
       "    </tr>\n",
       "    <tr>\n",
       "      <th>361</th>\n",
       "      <td>0.079124</td>\n",
       "      <td>0.463327</td>\n",
       "      <td>2236.0</td>\n",
       "    </tr>\n",
       "  </tbody>\n",
       "</table>\n",
       "</div>"
      ],
      "text/plain": [
       "         Pred  increase_percentage  shift_cnt\n",
       "357 -0.079982            -0.235078     2999.0\n",
       "358 -0.335661            -0.214889     2485.0\n",
       "359 -0.236093            -0.025283     2294.0\n",
       "360 -0.264793             0.213737     1951.0\n",
       "361  0.079124             0.463327     2236.0"
      ]
     },
     "execution_count": 1244,
     "metadata": {},
     "output_type": "execute_result"
    }
   ],
   "source": [
    "pred_stack = stack.predict(X_test)\n",
    "\n",
    "rmse_stack  =sqrt(mean_squared_error(Y_test, np.around(pred_stack)))     \n",
    "mae_stack = mean_absolute_error(Y_test, np.around(pred_stack))\n",
    "pred_stack = pd.DataFrame({\"Pred\":pred_stack,\"increase_percentage\":Y_test,\"shift_cnt\":shift_cnt})\n",
    "pred_stack.head()"
   ]
  },
  {
   "cell_type": "code",
   "execution_count": 1245,
   "metadata": {},
   "outputs": [],
   "source": [
    "pred_stack['Profit'] = pred_stack.apply(lambda row: calculate_profit(row['increase_percentage'], row['Pred'],row['shift_cnt']), axis=1)"
   ]
  },
  {
   "cell_type": "code",
   "execution_count": 1246,
   "metadata": {},
   "outputs": [
    {
     "data": {
      "text/plain": [
       "1648526.0"
      ]
     },
     "execution_count": 1246,
     "metadata": {},
     "output_type": "execute_result"
    }
   ],
   "source": [
    "profit_stack = sum(pred_stack['Profit'])\n",
    "profit_stack  #1648526"
   ]
  },
  {
   "cell_type": "code",
   "execution_count": 1247,
   "metadata": {},
   "outputs": [
    {
     "name": "stdout",
     "output_type": "stream",
     "text": [
      "Profit:1648526.0\n",
      "RMSE:0.44452141\n",
      "MAE:0.23625412\n"
     ]
    }
   ],
   "source": [
    "print(\"Profit:{}\".format(profit_stack))\n",
    "print(\"RMSE:{0:.8}\".format(rmse_stack))\n",
    "print(\"MAE:{0:.08}\".format(mae_stack))"
   ]
  },
  {
   "cell_type": "markdown",
   "metadata": {},
   "source": [
    "# Using one and a half year data as traindata"
   ]
  },
  {
   "cell_type": "code",
   "execution_count": 1203,
   "metadata": {},
   "outputs": [
    {
     "data": {
      "text/html": [
       "<div>\n",
       "<style scoped>\n",
       "    .dataframe tbody tr th:only-of-type {\n",
       "        vertical-align: middle;\n",
       "    }\n",
       "\n",
       "    .dataframe tbody tr th {\n",
       "        vertical-align: top;\n",
       "    }\n",
       "\n",
       "    .dataframe thead th {\n",
       "        text-align: right;\n",
       "    }\n",
       "</style>\n",
       "<table border=\"1\" class=\"dataframe\">\n",
       "  <thead>\n",
       "    <tr style=\"text-align: right;\">\n",
       "      <th></th>\n",
       "      <th>Unnamed: 0</th>\n",
       "      <th>instant</th>\n",
       "      <th>dteday</th>\n",
       "      <th>season</th>\n",
       "      <th>yr</th>\n",
       "      <th>mnth</th>\n",
       "      <th>holiday</th>\n",
       "      <th>weekday</th>\n",
       "      <th>workingday</th>\n",
       "      <th>weathersit</th>\n",
       "      <th>...</th>\n",
       "      <th>avg_hum</th>\n",
       "      <th>avg_windspeed</th>\n",
       "      <th>pre_cnt_2</th>\n",
       "      <th>pre_cnt_7</th>\n",
       "      <th>casual_2</th>\n",
       "      <th>casual_7</th>\n",
       "      <th>registered_2</th>\n",
       "      <th>registered_7</th>\n",
       "      <th>trend</th>\n",
       "      <th>increase_percentage</th>\n",
       "    </tr>\n",
       "  </thead>\n",
       "  <tbody>\n",
       "    <tr>\n",
       "      <th>0</th>\n",
       "      <td>9</td>\n",
       "      <td>9</td>\n",
       "      <td>9/1/11</td>\n",
       "      <td>1</td>\n",
       "      <td>0</td>\n",
       "      <td>1</td>\n",
       "      <td>0</td>\n",
       "      <td>0</td>\n",
       "      <td>0</td>\n",
       "      <td>1</td>\n",
       "      <td>...</td>\n",
       "      <td>0.569077</td>\n",
       "      <td>0.180397</td>\n",
       "      <td>1510.0</td>\n",
       "      <td>801.0</td>\n",
       "      <td>148</td>\n",
       "      <td>131</td>\n",
       "      <td>1362</td>\n",
       "      <td>670</td>\n",
       "      <td>-1</td>\n",
       "      <td>-0.455629</td>\n",
       "    </tr>\n",
       "    <tr>\n",
       "      <th>1</th>\n",
       "      <td>10</td>\n",
       "      <td>10</td>\n",
       "      <td>10/1/11</td>\n",
       "      <td>1</td>\n",
       "      <td>0</td>\n",
       "      <td>1</td>\n",
       "      <td>0</td>\n",
       "      <td>1</td>\n",
       "      <td>1</td>\n",
       "      <td>1</td>\n",
       "      <td>...</td>\n",
       "      <td>0.530506</td>\n",
       "      <td>0.195591</td>\n",
       "      <td>959.0</td>\n",
       "      <td>1349.0</td>\n",
       "      <td>68</td>\n",
       "      <td>120</td>\n",
       "      <td>891</td>\n",
       "      <td>1229</td>\n",
       "      <td>1</td>\n",
       "      <td>0.377477</td>\n",
       "    </tr>\n",
       "    <tr>\n",
       "      <th>2</th>\n",
       "      <td>11</td>\n",
       "      <td>11</td>\n",
       "      <td>11/1/11</td>\n",
       "      <td>1</td>\n",
       "      <td>0</td>\n",
       "      <td>1</td>\n",
       "      <td>0</td>\n",
       "      <td>2</td>\n",
       "      <td>1</td>\n",
       "      <td>2</td>\n",
       "      <td>...</td>\n",
       "      <td>0.493089</td>\n",
       "      <td>0.211793</td>\n",
       "      <td>822.0</td>\n",
       "      <td>1562.0</td>\n",
       "      <td>54</td>\n",
       "      <td>108</td>\n",
       "      <td>768</td>\n",
       "      <td>1454</td>\n",
       "      <td>1</td>\n",
       "      <td>0.536496</td>\n",
       "    </tr>\n",
       "    <tr>\n",
       "      <th>3</th>\n",
       "      <td>12</td>\n",
       "      <td>12</td>\n",
       "      <td>12/1/11</td>\n",
       "      <td>1</td>\n",
       "      <td>0</td>\n",
       "      <td>1</td>\n",
       "      <td>0</td>\n",
       "      <td>3</td>\n",
       "      <td>1</td>\n",
       "      <td>1</td>\n",
       "      <td>...</td>\n",
       "      <td>0.499609</td>\n",
       "      <td>0.208215</td>\n",
       "      <td>1321.0</td>\n",
       "      <td>1600.0</td>\n",
       "      <td>41</td>\n",
       "      <td>82</td>\n",
       "      <td>1280</td>\n",
       "      <td>1518</td>\n",
       "      <td>-1</td>\n",
       "      <td>-0.120363</td>\n",
       "    </tr>\n",
       "    <tr>\n",
       "      <th>4</th>\n",
       "      <td>13</td>\n",
       "      <td>13</td>\n",
       "      <td>13/1/11</td>\n",
       "      <td>1</td>\n",
       "      <td>0</td>\n",
       "      <td>1</td>\n",
       "      <td>0</td>\n",
       "      <td>4</td>\n",
       "      <td>1</td>\n",
       "      <td>1</td>\n",
       "      <td>...</td>\n",
       "      <td>0.513314</td>\n",
       "      <td>0.202763</td>\n",
       "      <td>1263.0</td>\n",
       "      <td>1606.0</td>\n",
       "      <td>43</td>\n",
       "      <td>88</td>\n",
       "      <td>1220</td>\n",
       "      <td>1518</td>\n",
       "      <td>1</td>\n",
       "      <td>0.113222</td>\n",
       "    </tr>\n",
       "  </tbody>\n",
       "</table>\n",
       "<p>5 rows × 31 columns</p>\n",
       "</div>"
      ],
      "text/plain": [
       "   Unnamed: 0  instant   dteday  season  yr  mnth  holiday  weekday  \\\n",
       "0           9        9   9/1/11       1   0     1        0        0   \n",
       "1          10       10  10/1/11       1   0     1        0        1   \n",
       "2          11       11  11/1/11       1   0     1        0        2   \n",
       "3          12       12  12/1/11       1   0     1        0        3   \n",
       "4          13       13  13/1/11       1   0     1        0        4   \n",
       "\n",
       "   workingday  weathersit         ...            avg_hum  avg_windspeed  \\\n",
       "0           0           1         ...           0.569077       0.180397   \n",
       "1           1           1         ...           0.530506       0.195591   \n",
       "2           1           2         ...           0.493089       0.211793   \n",
       "3           1           1         ...           0.499609       0.208215   \n",
       "4           1           1         ...           0.513314       0.202763   \n",
       "\n",
       "   pre_cnt_2  pre_cnt_7  casual_2  casual_7  registered_2  registered_7  \\\n",
       "0     1510.0      801.0       148       131          1362           670   \n",
       "1      959.0     1349.0        68       120           891          1229   \n",
       "2      822.0     1562.0        54       108           768          1454   \n",
       "3     1321.0     1600.0        41        82          1280          1518   \n",
       "4     1263.0     1606.0        43        88          1220          1518   \n",
       "\n",
       "   trend  increase_percentage  \n",
       "0     -1            -0.455629  \n",
       "1      1             0.377477  \n",
       "2      1             0.536496  \n",
       "3     -1            -0.120363  \n",
       "4      1             0.113222  \n",
       "\n",
       "[5 rows x 31 columns]"
      ]
     },
     "execution_count": 1203,
     "metadata": {},
     "output_type": "execute_result"
    }
   ],
   "source": [
    "bikedata = pd.read_csv('~/Desktop/bikedata.csv', index_col=False)\n",
    "bikedata.head()"
   ]
  },
  {
   "cell_type": "code",
   "execution_count": 1204,
   "metadata": {},
   "outputs": [
    {
     "name": "stderr",
     "output_type": "stream",
     "text": [
      "/Library/Frameworks/Python.framework/Versions/3.6/lib/python3.6/site-packages/ipykernel_launcher.py:8: SettingWithCopyWarning: \n",
      "A value is trying to be set on a copy of a slice from a DataFrame\n",
      "\n",
      "See the caveats in the documentation: http://pandas.pydata.org/pandas-docs/stable/indexing.html#indexing-view-versus-copy\n",
      "  \n"
     ]
    }
   ],
   "source": [
    "traindata = bikedata[(bikedata['yr'] == 0) | ((bikedata['yr'] == 1) & (bikedata['mnth']) < 7)]\n",
    "testdata = bikedata[(bikedata['yr'] == 1) & (bikedata['mnth'] >6)]\n",
    "traindata.head()\n",
    "\n",
    "cols = [0,1,2,4,10,14,15,18,19,20,21,22,25,26,27,28,29,30]\n",
    "traindata.drop(traindata.columns[cols],axis=1,inplace=True)\n",
    "\n",
    "testdata.drop(testdata.columns[cols],axis=1,inplace=True)\n",
    "testdata.columns.values.tolist()\n",
    "\n",
    "Y_train = traindata['cnt'].values\n",
    "X_train = traindata.drop('cnt', axis=1).values\n",
    "\n",
    "Y_test = testdata['cnt'].values\n",
    "X_test = testdata.drop('cnt', axis=1).values\n",
    "\n",
    "pd.DataFrame(X_test).head()\n",
    "\n",
    "\n",
    "\n",
    "profit_original = sum(Y_test)\n",
    "profit_original\n",
    "\n",
    "#define function of calculating profit\n",
    "def calculate_profit(a,b):\n",
    "    return min(a,b)*3-b*2;\n",
    "\n"
   ]
  },
  {
   "cell_type": "code",
   "execution_count": 1206,
   "metadata": {},
   "outputs": [
    {
     "name": "stdout",
     "output_type": "stream",
     "text": [
      "Profit:876382.0\n",
      "RMSE:1154.9512\n",
      "MAE:807.29348\n"
     ]
    }
   ],
   "source": [
    "# Single Model - Neural Network\n",
    "\n",
    "np.random.seed(123)\n",
    "NN = MLPRegressor(hidden_layer_sizes=(100,),activation='relu',solver='adam',learning_rate='adaptive',\n",
    "                                       max_iter=100,learning_rate_init=0.1,alpha=0.001)\n",
    "\n",
    "NN_fit = NN.fit(X_train,Y_train)\n",
    "pred_NN = NN_fit.predict(X_test)\n",
    "                \n",
    "rmse_NN  =sqrt(mean_squared_error(Y_test, np.around(pred_NN)))     \n",
    "mae_NN = mean_absolute_error(Y_test, np.around(pred_NN))\n",
    "pred_NN= pd.DataFrame({\"Pred\":np.around(pred_NN),\"cnt\":Y_test})\n",
    "pred_NN['Profit'] = pred_NN.apply(lambda row: calculate_profit(row['cnt'], row['Pred']), axis=1)\n",
    "\n",
    "profit_NN = sum(pred_NN['Profit'])\n",
    "print(\"Profit:{}\".format(profit_NN))\n",
    "print(\"RMSE:{0:.8}\".format(rmse_NN))\n",
    "print(\"MAE:{0:.08}\".format(mae_NN))\n"
   ]
  },
  {
   "cell_type": "code",
   "execution_count": 1207,
   "metadata": {},
   "outputs": [
    {
     "name": "stdout",
     "output_type": "stream",
     "text": [
      "Profit:898500.0\n",
      "RMSE:1107.883\n",
      "MAE:810.36413\n"
     ]
    }
   ],
   "source": [
    "np.random.seed(123)\n",
    "mlp = MLPRegressor(activation='relu', alpha=0.01, batch_size='auto', beta_1=0.9,\n",
    "       beta_2=0.999, early_stopping=False, epsilon=1e-08,\n",
    "       hidden_layer_sizes=(100,), learning_rate='constant',\n",
    "       learning_rate_init=0.0001, max_iter=1000, momentum=0.8,\n",
    "       nesterovs_momentum=True, power_t=0.5, random_state=1, shuffle=True,\n",
    "       solver='adam', tol=0.0001, validation_fraction=0.1, verbose=False)\n",
    "\n",
    "\n",
    "mlp.fit(X_train,Y_train)\n",
    "pred_mlp = mlp.predict(X_test)\n",
    "rmse_mlp  =sqrt(mean_squared_error(Y_test, np.around(pred_mlp)))     \n",
    "mae_mlp = mean_absolute_error(Y_test, np.around(pred_mlp))\n",
    "prediction_mlp = pd.DataFrame({\"Pred\":np.around(pred_mlp),\"cnt\":Y_test})\n",
    "prediction_mlp.head()\n",
    "\n",
    "prediction_mlp['Profit'] = prediction_mlp.apply(lambda row: calculate_profit(row['cnt'], row['Pred']), axis=1)\n",
    "prediction_mlp.head()\n",
    "\n",
    "profit_mlp = sum(prediction_mlp['Profit'])\n",
    "print(\"Profit:{}\".format(profit_mlp))\n",
    "print(\"RMSE:{0:.8}\".format(rmse_mlp))\n",
    "print(\"MAE:{0:.08}\".format(mae_mlp)) #898500.0"
   ]
  },
  {
   "cell_type": "code",
   "execution_count": 1208,
   "metadata": {},
   "outputs": [
    {
     "name": "stdout",
     "output_type": "stream",
     "text": [
      "Profit:900070.0\n",
      "RMSE:1116.6269\n",
      "MAE:820.21196\n"
     ]
    }
   ],
   "source": [
    "# Single Model - Bayesian Regression\n",
    "\n",
    "np.random.seed(123)\n",
    "bayesian = linear_model.BayesianRidge(alpha_1=0.0001, alpha_2=0.0001,\n",
    "       fit_intercept=True, lambda_1=0.001, lambda_2=0.001, n_iter=1000,\n",
    "       tol=0.01, verbose=False)\n",
    "\n",
    "bayesian_fit = bayesian.fit(X_train, Y_train)\n",
    "pred_bayesian = bayesian_fit.predict(X_test)\n",
    "\n",
    "rmse_bayesian  =sqrt(mean_squared_error(Y_test, np.around(pred_bayesian)))     \n",
    "mae_bayesian = mean_absolute_error(Y_test, np.around(pred_bayesian))                         \n",
    "pred_bayesian = pd.DataFrame({\"Pred\":np.around(pred_bayesian),\"cnt\":Y_test})\n",
    "pred_bayesian['Profit'] = pred_bayesian.apply(lambda row: calculate_profit(row['cnt'], row['Pred']), axis=1)\n",
    "pred_bayesian.head()\n",
    "profit_bayesian = sum(pred_bayesian['Profit'])\n",
    "\n",
    "print(\"Profit:{}\".format(profit_bayesian))\n",
    "print(\"RMSE:{0:.8}\".format(rmse_bayesian))\n",
    "print(\"MAE:{0:.08}\".format(mae_bayesian)) #900070"
   ]
  },
  {
   "cell_type": "code",
   "execution_count": 1209,
   "metadata": {},
   "outputs": [
    {
     "name": "stdout",
     "output_type": "stream",
     "text": [
      "Profit:1027398.0\n",
      "RMSE:625.43932\n",
      "MAE:372.65217\n"
     ]
    }
   ],
   "source": [
    "# Single Model - GradientBoosting Regression\n",
    "np.random.seed(123)\n",
    "gbr = GradientBoostingRegressor(alpha = 0.1,n_estimators=300, learning_rate=0.05,\n",
    "                                   max_depth=4, max_features='sqrt',\n",
    "                                   min_samples_leaf=15, min_samples_split=10, \n",
    "                                   loss='huber', random_state =5)\n",
    "gbr.fit(X_train,Y_train)\n",
    "pred_gbr = gbr.predict(X_test)\n",
    "rmse_gbr  =sqrt(mean_squared_error(Y_test, np.around(pred_gbr)))     \n",
    "mae_gbr = mean_absolute_error(Y_test, np.around(pred_gbr))\n",
    "\n",
    "pred_gbr = pd.DataFrame({\"Pred\":np.around(pred_gbr),\"cnt\":Y_test})\n",
    "pred_gbr['Profit'] = pred_gbr.apply(lambda row: calculate_profit(row['cnt'], row['Pred']), axis=1)\n",
    "profit_gbr = sum(pred_gbr['Profit'])\n",
    "print(\"Profit:{}\".format(profit_gbr))\n",
    "print(\"RMSE:{0:.8}\".format(rmse_gbr))\n",
    "print(\"MAE:{0:.08}\".format(mae_gbr))  #1027398.0"
   ]
  },
  {
   "cell_type": "code",
   "execution_count": 1211,
   "metadata": {},
   "outputs": [
    {
     "name": "stdout",
     "output_type": "stream",
     "text": [
      "Profit:1010119.0\n",
      "RMSE:638.10588\n",
      "MAE:421.0\n"
     ]
    }
   ],
   "source": [
    "# Stacking\n",
    "\n",
    "# Initializing models\n",
    "svr_lin = SVR(kernel='linear')\n",
    "mlp = MLPRegressor(random_state=1)\n",
    "lasso = Lasso(random_state=1)\n",
    "\n",
    "np.random.seed(123)\n",
    "stack = StackingCVRegressor(regressors=(svr_lin, lasso, gbr, bayesian),\n",
    "                            meta_regressor=gbr)\n",
    "\n",
    "stack.fit(X_train,Y_train)\n",
    "pred_stack = stack.predict(X_test)\n",
    "\n",
    "rmse_stack  =sqrt(mean_squared_error(Y_test, np.around(pred_stack)))     \n",
    "mae_stack = mean_absolute_error(Y_test, np.around(pred_stack))\n",
    "pred_stack = pd.DataFrame({\"Pred\":np.around(pred_stack),\"cnt\":Y_test})\n",
    "pred_stack.head()\n",
    "\n",
    "pred_stack['Profit'] = pred_stack.apply(lambda row: calculate_profit(row['cnt'], row['Pred']), axis=1)\n",
    "pred_stack.head()\n",
    "\n",
    "profit_stack = sum(pred_stack['Profit'])\n",
    "print(\"Profit:{}\".format(profit_stack))\n",
    "print(\"RMSE:{0:.8}\".format(rmse_stack))\n",
    "print(\"MAE:{0:.08}\".format(mae_stack))  #1010119.0"
   ]
  },
  {
   "cell_type": "code",
   "execution_count": null,
   "metadata": {},
   "outputs": [],
   "source": []
  },
  {
   "cell_type": "markdown",
   "metadata": {},
   "source": [
    "# Using trend as target variable  未完待续。。。"
   ]
  },
  {
   "cell_type": "code",
   "execution_count": 24,
   "metadata": {},
   "outputs": [],
   "source": [
    "index = bikedata['yr']\n",
    "traindata = bikedata[index == 0]\n",
    "testdata = bikedata[index ==1]"
   ]
  },
  {
   "cell_type": "code",
   "execution_count": 25,
   "metadata": {},
   "outputs": [
    {
     "data": {
      "text/html": [
       "<div>\n",
       "<style scoped>\n",
       "    .dataframe tbody tr th:only-of-type {\n",
       "        vertical-align: middle;\n",
       "    }\n",
       "\n",
       "    .dataframe tbody tr th {\n",
       "        vertical-align: top;\n",
       "    }\n",
       "\n",
       "    .dataframe thead th {\n",
       "        text-align: right;\n",
       "    }\n",
       "</style>\n",
       "<table border=\"1\" class=\"dataframe\">\n",
       "  <thead>\n",
       "    <tr style=\"text-align: right;\">\n",
       "      <th></th>\n",
       "      <th>mnth</th>\n",
       "      <th>holiday</th>\n",
       "      <th>weekday</th>\n",
       "      <th>workingday</th>\n",
       "      <th>atemp</th>\n",
       "      <th>hum</th>\n",
       "      <th>windspeed</th>\n",
       "      <th>pre_cnt_2</th>\n",
       "      <th>pre_cnt_7</th>\n",
       "    </tr>\n",
       "  </thead>\n",
       "  <tbody>\n",
       "    <tr>\n",
       "      <th>357</th>\n",
       "      <td>1</td>\n",
       "      <td>0</td>\n",
       "      <td>0</td>\n",
       "      <td>0</td>\n",
       "      <td>0.375621</td>\n",
       "      <td>0.692500</td>\n",
       "      <td>0.192167</td>\n",
       "      <td>2999.0</td>\n",
       "      <td>754.0</td>\n",
       "    </tr>\n",
       "    <tr>\n",
       "      <th>358</th>\n",
       "      <td>1</td>\n",
       "      <td>1</td>\n",
       "      <td>1</td>\n",
       "      <td>0</td>\n",
       "      <td>0.252304</td>\n",
       "      <td>0.381304</td>\n",
       "      <td>0.329665</td>\n",
       "      <td>2485.0</td>\n",
       "      <td>1317.0</td>\n",
       "    </tr>\n",
       "    <tr>\n",
       "      <th>359</th>\n",
       "      <td>1</td>\n",
       "      <td>0</td>\n",
       "      <td>2</td>\n",
       "      <td>1</td>\n",
       "      <td>0.126275</td>\n",
       "      <td>0.441250</td>\n",
       "      <td>0.365671</td>\n",
       "      <td>2294.0</td>\n",
       "      <td>1162.0</td>\n",
       "    </tr>\n",
       "    <tr>\n",
       "      <th>360</th>\n",
       "      <td>1</td>\n",
       "      <td>0</td>\n",
       "      <td>3</td>\n",
       "      <td>1</td>\n",
       "      <td>0.119337</td>\n",
       "      <td>0.414583</td>\n",
       "      <td>0.184700</td>\n",
       "      <td>1951.0</td>\n",
       "      <td>2302.0</td>\n",
       "    </tr>\n",
       "    <tr>\n",
       "      <th>361</th>\n",
       "      <td>1</td>\n",
       "      <td>0</td>\n",
       "      <td>4</td>\n",
       "      <td>1</td>\n",
       "      <td>0.278412</td>\n",
       "      <td>0.524167</td>\n",
       "      <td>0.129987</td>\n",
       "      <td>2236.0</td>\n",
       "      <td>2423.0</td>\n",
       "    </tr>\n",
       "  </tbody>\n",
       "</table>\n",
       "</div>"
      ],
      "text/plain": [
       "     mnth  holiday  weekday  workingday     atemp       hum  windspeed  \\\n",
       "357     1        0        0           0  0.375621  0.692500   0.192167   \n",
       "358     1        1        1           0  0.252304  0.381304   0.329665   \n",
       "359     1        0        2           1  0.126275  0.441250   0.365671   \n",
       "360     1        0        3           1  0.119337  0.414583   0.184700   \n",
       "361     1        0        4           1  0.278412  0.524167   0.129987   \n",
       "\n",
       "     pre_cnt_2  pre_cnt_7  \n",
       "357     2999.0      754.0  \n",
       "358     2485.0     1317.0  \n",
       "359     2294.0     1162.0  \n",
       "360     1951.0     2302.0  \n",
       "361     2236.0     2423.0  "
      ]
     },
     "execution_count": 25,
     "metadata": {},
     "output_type": "execute_result"
    }
   ],
   "source": [
    "Y_train = traindata['trend'].values\n",
    "X_train = traindata[['mnth','holiday', 'weekday','workingday', 'atemp', 'hum', 'windspeed','pre_cnt_2','pre_cnt_7']]\n",
    "Y_test = testdata['trend'].values\n",
    "X_test = testdata[['mnth','holiday', 'weekday','workingday', 'atemp', 'hum', 'windspeed','pre_cnt_2','pre_cnt_7']]\n",
    "pd.DataFrame(X_test).head()"
   ]
  },
  {
   "cell_type": "code",
   "execution_count": 26,
   "metadata": {},
   "outputs": [],
   "source": [
    "#define function of calculating profit\n",
    "def calculate_profit(a,b):\n",
    "    return min(a,b)*3-b*2;"
   ]
  },
  {
   "cell_type": "markdown",
   "metadata": {},
   "source": [
    "# Single Model - Neural Network"
   ]
  },
  {
   "cell_type": "code",
   "execution_count": 27,
   "metadata": {},
   "outputs": [],
   "source": [
    "NN_train = MLPClassifier(activation='relu', alpha=0.0005, batch_size='auto',\n",
    "       epsilon=1e-08, hidden_layer_sizes=(10,5), learning_rate='constant',\n",
    "       learning_rate_init=0.001, max_iter=200, momentum=0.9,\n",
    "       nesterovs_momentum=True, power_t=0.5, random_state=1, shuffle=True,\n",
    "       solver='lbfgs', tol=0.1, validation_fraction=0.01, verbose=False,\n",
    "       warm_start=False)"
   ]
  },
  {
   "cell_type": "code",
   "execution_count": 28,
   "metadata": {},
   "outputs": [
    {
     "data": {
      "text/plain": [
       "0.6502732240437158"
      ]
     },
     "execution_count": 28,
     "metadata": {},
     "output_type": "execute_result"
    }
   ],
   "source": [
    "NN_train = NN_train.fit(X_train,Y_train)\n",
    "y_nn = NN_train.predict(X_test)\n",
    "score = NN_train.score(X_test,Y_test)\n",
    "score#0.65"
   ]
  },
  {
   "cell_type": "code",
   "execution_count": 31,
   "metadata": {},
   "outputs": [],
   "source": [
    "list=[]\n",
    "for i in y_nn:\n",
    "    if i ==1:\n",
    "        y=702\n",
    "    else:\n",
    "        y=-721\n",
    "    list.append(y)\n",
    "    \n",
    "Y_actual = testdata['cnt'].values\n",
    "Y_pre2 = testdata['pre_cnt_2'].values\n",
    "pred = np.array(Y_pre2)+np.array(list)\n",
    "pred_nn = pd.DataFrame({\"Pred\":pred,\"cnt\":Y_actual})"
   ]
  },
  {
   "cell_type": "code",
   "execution_count": 32,
   "metadata": {},
   "outputs": [
    {
     "name": "stdout",
     "output_type": "stream",
     "text": [
      "1540079.0\n"
     ]
    }
   ],
   "source": [
    "##### Profit Function ####\n",
    "\n",
    "pred_nn['Profit'] = pred_nn.apply(lambda row: calculate_profit(row['cnt'], row['Pred']), axis=1)\n",
    "profit_ynn = sum(pred_nn['Profit'])\n",
    "print (profit_ynn)#1540079"
   ]
  },
  {
   "cell_type": "markdown",
   "metadata": {},
   "source": [
    "# Single Model - SVC"
   ]
  },
  {
   "cell_type": "code",
   "execution_count": 33,
   "metadata": {},
   "outputs": [
    {
     "name": "stdout",
     "output_type": "stream",
     "text": [
      "1313877.5\n"
     ]
    },
    {
     "data": {
      "text/plain": [
       "0.49453551912568305"
      ]
     },
     "execution_count": 33,
     "metadata": {},
     "output_type": "execute_result"
    }
   ],
   "source": [
    "svc_rbf = SVC(kernel='rbf', C=10, gamma=0.0001)\n",
    "y_rbf = svc_rbf.fit(X_train, Y_train).predict(X_test)\n",
    "\n",
    "##################################################################################\n",
    "rbf_score = svc_rbf.score(X_test,Y_test)\n",
    "rbf_score\n",
    "\n",
    "list=[]\n",
    "for i in y_rbf:\n",
    "    if i ==1:\n",
    "        y=702\n",
    "    else:\n",
    "        y=-721\n",
    "    list.append(y)\n",
    "    \n",
    "Y_actual = testdata['cnt'].values\n",
    "Y_pre2 = testdata['pre_cnt_2'].values\n",
    "\n",
    "\n",
    "pred = np.array(Y_pre2)+np.array(list)\n",
    "pred_rbf = pd.DataFrame({\"Pred\":pred,\"cnt\":Y_actual})\n",
    "\n",
    "\n",
    "##### Profit Function ####\n",
    "def calculate_profit(a,b):\n",
    "    return min(a,b)*3-b*2;\n",
    "\n",
    "pred_rbf['Profit'] = pred_rbf.apply(lambda row: calculate_profit(row['cnt'], row['Pred']), axis=1)\n",
    "profit_yrbf = sum(pred_rbf['Profit'])\n",
    "print (profit_yrbf)#1313877\n",
    "rbf_score#0.494"
   ]
  },
  {
   "cell_type": "markdown",
   "metadata": {},
   "source": [
    "# Stacking"
   ]
  },
  {
   "cell_type": "code",
   "execution_count": 34,
   "metadata": {},
   "outputs": [
    {
     "name": "stderr",
     "output_type": "stream",
     "text": [
      "D:\\Anaconda\\lib\\site-packages\\ipykernel_launcher.py:3: SettingWithCopyWarning: \n",
      "A value is trying to be set on a copy of a slice from a DataFrame\n",
      "\n",
      "See the caveats in the documentation: http://pandas.pydata.org/pandas-docs/stable/indexing.html#indexing-view-versus-copy\n",
      "  This is separate from the ipykernel package so we can avoid doing imports until\n",
      "D:\\Anaconda\\lib\\site-packages\\ipykernel_launcher.py:5: SettingWithCopyWarning: \n",
      "A value is trying to be set on a copy of a slice from a DataFrame\n",
      "\n",
      "See the caveats in the documentation: http://pandas.pydata.org/pandas-docs/stable/indexing.html#indexing-view-versus-copy\n",
      "  \"\"\"\n"
     ]
    }
   ],
   "source": [
    "###### Data Input #######\n",
    "cols = [0,1,2,4,10,14,15,16,18,19,20,21,22,25,26,27,28,30]\n",
    "traindata.drop(traindata.columns[cols],axis=1,inplace=True)\n",
    "\n",
    "testdata.drop(testdata.columns[cols],axis=1,inplace=True)\n",
    "\n",
    "###### X/Y  #######\n",
    "\n",
    "Y_train = traindata['trend'].values\n",
    "X_train = traindata.drop('trend', axis=1).values\n",
    "\n",
    "Y_test = testdata['trend'].values\n",
    "X_test = testdata.drop('trend', axis=1).values"
   ]
  },
  {
   "cell_type": "code",
   "execution_count": 36,
   "metadata": {},
   "outputs": [
    {
     "name": "stdout",
     "output_type": "stream",
     "text": [
      "1567246.0\n"
     ]
    }
   ],
   "source": [
    "clf1 = KNeighborsClassifier(n_neighbors=5)\n",
    "clf2 = RandomForestClassifier(random_state=1)\n",
    "clf3 = GaussianNB()\n",
    "lr = LogisticRegression()\n",
    "sclf = StackingClassifier(classifiers=[clf1, clf2, clf3],\n",
    "                          use_probas=True,\n",
    "                          average_probas=False,\n",
    "                          meta_classifier=lr)\n",
    "     \n",
    "    \n",
    "    \n",
    "############# \n",
    "from mlxtend.regressor import StackingCVRegressor\n",
    "np.random.seed(123)\n",
    "stack = StackingCVRegressor(regressors=(clf1, clf2, clf3), meta_regressor=lr)\n",
    "stack.fit(X_train,Y_train)\n",
    "pred = stack.predict(X_test)\n",
    "pred_stack = pd.DataFrame({\"Pred\":np.around(pred),\"Trend\":Y_test})\n",
    "pred_stack.head()\n",
    "\n",
    "\n",
    "list=[]\n",
    "for i in pred:\n",
    "    if i ==1:\n",
    "        y=702\n",
    "    else:\n",
    "        y=-721\n",
    "    list.append(y)\n",
    "    \n",
    "\n",
    "###### Actual Y #####\n",
    "\n",
    "prediction = np.array(Y_pre2)+np.array(list)\n",
    "pred_stack = pd.DataFrame({\"Pred\":prediction,\"cnt\":Y_actual})\n",
    "\n",
    "\n",
    "##### Profit Function ####\n",
    "\n",
    "\n",
    "pred_stack['Profit'] = pred_stack.apply(lambda row: calculate_profit(row['cnt'], row['Pred']), axis=1)\n",
    "profit_stack = sum(pred_stack['Profit'])\n",
    "print (profit_stack)\n"
   ]
  },
  {
   "cell_type": "code",
   "execution_count": null,
   "metadata": {},
   "outputs": [],
   "source": []
  }
 ],
 "metadata": {
  "kernelspec": {
   "display_name": "Python 3",
   "language": "python",
   "name": "python3"
  },
  "language_info": {
   "codemirror_mode": {
    "name": "ipython",
    "version": 3
   },
   "file_extension": ".py",
   "mimetype": "text/x-python",
   "name": "python",
   "nbconvert_exporter": "python",
   "pygments_lexer": "ipython3",
   "version": "3.6.6"
  }
 },
 "nbformat": 4,
 "nbformat_minor": 2
}
